{
 "cells": [
  {
   "cell_type": "code",
   "execution_count": 1,
   "id": "ce3bd0c3",
   "metadata": {},
   "outputs": [],
   "source": [
    "import numpy as np\n",
    "import seaborn as sns\n",
    "import pandas as pd\n",
    "import torch \n",
    "import torch.nn as nn\n",
    "import matplotlib \n",
    "import matplotlib.pyplot as plt"
   ]
  },
  {
   "cell_type": "code",
   "execution_count": 2,
   "id": "419078fb",
   "metadata": {},
   "outputs": [],
   "source": [
    "dummy = pd.read_csv('data-final.csv',sep = '\\t')"
   ]
  },
  {
   "cell_type": "code",
   "execution_count": 2,
   "id": "29dee33d",
   "metadata": {},
   "outputs": [],
   "source": [
    "df = pd.read_csv('data-final.csv',sep = '\\t')\n"
   ]
  },
  {
   "cell_type": "code",
   "execution_count": 3,
   "id": "0089f558",
   "metadata": {},
   "outputs": [
    {
     "data": {
      "text/plain": [
       "1015341"
      ]
     },
     "execution_count": 3,
     "metadata": {},
     "output_type": "execute_result"
    }
   ],
   "source": [
    "len(df)"
   ]
  },
  {
   "cell_type": "code",
   "execution_count": 4,
   "id": "254fca07",
   "metadata": {
    "scrolled": true
   },
   "outputs": [
    {
     "name": "stdout",
     "output_type": "stream",
     "text": [
      "['EXT1' 'EXT2' 'EXT3' 'EXT4' 'EXT5' 'EXT6' 'EXT7' 'EXT8' 'EXT9' 'EXT10'\n",
      " 'EST1' 'EST2' 'EST3' 'EST4' 'EST5' 'EST6' 'EST7' 'EST8' 'EST9' 'EST10'\n",
      " 'AGR1' 'AGR2' 'AGR3' 'AGR4' 'AGR5' 'AGR6' 'AGR7' 'AGR8' 'AGR9' 'AGR10'\n",
      " 'CSN1' 'CSN2' 'CSN3' 'CSN4' 'CSN5' 'CSN6' 'CSN7' 'CSN8' 'CSN9' 'CSN10'\n",
      " 'OPN1' 'OPN2' 'OPN3' 'OPN4' 'OPN5' 'OPN6' 'OPN7' 'OPN8' 'OPN9' 'OPN10'\n",
      " 'EXT1_E' 'EXT2_E' 'EXT3_E' 'EXT4_E' 'EXT5_E' 'EXT6_E' 'EXT7_E' 'EXT8_E'\n",
      " 'EXT9_E' 'EXT10_E' 'EST1_E' 'EST2_E' 'EST3_E' 'EST4_E' 'EST5_E' 'EST6_E'\n",
      " 'EST7_E' 'EST8_E' 'EST9_E' 'EST10_E' 'AGR1_E' 'AGR2_E' 'AGR3_E' 'AGR4_E'\n",
      " 'AGR5_E' 'AGR6_E' 'AGR7_E' 'AGR8_E' 'AGR9_E' 'AGR10_E' 'CSN1_E' 'CSN2_E'\n",
      " 'CSN3_E' 'CSN4_E' 'CSN5_E' 'CSN6_E' 'CSN7_E' 'CSN8_E' 'CSN9_E' 'CSN10_E'\n",
      " 'OPN1_E' 'OPN2_E' 'OPN3_E' 'OPN4_E' 'OPN5_E' 'OPN6_E' 'OPN7_E' 'OPN8_E'\n",
      " 'OPN9_E' 'OPN10_E' 'dateload' 'screenw' 'screenh' 'introelapse'\n",
      " 'testelapse' 'endelapse' 'IPC' 'country' 'lat_appx_lots_of_err'\n",
      " 'long_appx_lots_of_err']\n"
     ]
    },
    {
     "data": {
      "text/plain": [
       "110"
      ]
     },
     "execution_count": 4,
     "metadata": {},
     "output_type": "execute_result"
    }
   ],
   "source": [
    "list_columns = np.array(df.columns)\n",
    "print(list_columns)\n",
    "len(list_columns)"
   ]
  },
  {
   "cell_type": "code",
   "execution_count": 5,
   "id": "0e0b9166",
   "metadata": {
    "scrolled": true
   },
   "outputs": [
    {
     "data": {
      "text/plain": [
       "array([dtype('float64'), dtype('float64'), dtype('float64'),\n",
       "       dtype('float64'), dtype('float64'), dtype('float64'),\n",
       "       dtype('float64'), dtype('float64'), dtype('float64'),\n",
       "       dtype('float64'), dtype('float64'), dtype('float64'),\n",
       "       dtype('float64'), dtype('float64'), dtype('float64'),\n",
       "       dtype('float64'), dtype('float64'), dtype('float64'),\n",
       "       dtype('float64'), dtype('float64'), dtype('float64'),\n",
       "       dtype('float64'), dtype('float64'), dtype('float64'),\n",
       "       dtype('float64'), dtype('float64'), dtype('float64'),\n",
       "       dtype('float64'), dtype('float64'), dtype('float64'),\n",
       "       dtype('float64'), dtype('float64'), dtype('float64'),\n",
       "       dtype('float64'), dtype('float64'), dtype('float64'),\n",
       "       dtype('float64'), dtype('float64'), dtype('float64'),\n",
       "       dtype('float64'), dtype('float64'), dtype('float64'),\n",
       "       dtype('float64'), dtype('float64'), dtype('float64'),\n",
       "       dtype('float64'), dtype('float64'), dtype('float64'),\n",
       "       dtype('float64'), dtype('float64'), dtype('float64'),\n",
       "       dtype('float64'), dtype('float64'), dtype('float64'),\n",
       "       dtype('float64'), dtype('float64'), dtype('float64'),\n",
       "       dtype('float64'), dtype('float64'), dtype('float64'),\n",
       "       dtype('float64'), dtype('float64'), dtype('float64'),\n",
       "       dtype('float64'), dtype('float64'), dtype('float64'),\n",
       "       dtype('float64'), dtype('float64'), dtype('float64'),\n",
       "       dtype('float64'), dtype('float64'), dtype('float64'),\n",
       "       dtype('float64'), dtype('float64'), dtype('float64'),\n",
       "       dtype('float64'), dtype('float64'), dtype('float64'),\n",
       "       dtype('float64'), dtype('float64'), dtype('float64'),\n",
       "       dtype('float64'), dtype('float64'), dtype('float64'),\n",
       "       dtype('float64'), dtype('float64'), dtype('float64'),\n",
       "       dtype('float64'), dtype('float64'), dtype('float64'),\n",
       "       dtype('float64'), dtype('float64'), dtype('float64'),\n",
       "       dtype('float64'), dtype('float64'), dtype('float64'),\n",
       "       dtype('float64'), dtype('float64'), dtype('float64'),\n",
       "       dtype('float64'), dtype('O'), dtype('float64'), dtype('float64'),\n",
       "       dtype('float64'), dtype('float64'), dtype('int64'), dtype('int64'),\n",
       "       dtype('O'), dtype('O'), dtype('O')], dtype=object)"
      ]
     },
     "execution_count": 5,
     "metadata": {},
     "output_type": "execute_result"
    }
   ],
   "source": [
    "np.array(df.dtypes)"
   ]
  },
  {
   "cell_type": "code",
   "execution_count": 6,
   "id": "1ef966fd",
   "metadata": {},
   "outputs": [
    {
     "data": {
      "text/plain": [
       "EXT1                     1783\n",
       "EXT2                     1783\n",
       "EXT3                     1783\n",
       "EXT4                     1783\n",
       "EXT5                     1783\n",
       "                         ... \n",
       "endelapse                   0\n",
       "IPC                         0\n",
       "country                    77\n",
       "lat_appx_lots_of_err        0\n",
       "long_appx_lots_of_err       0\n",
       "Length: 110, dtype: int64"
      ]
     },
     "execution_count": 6,
     "metadata": {},
     "output_type": "execute_result"
    }
   ],
   "source": [
    "df.isnull().sum()"
   ]
  },
  {
   "cell_type": "code",
   "execution_count": 7,
   "id": "6ac99d2f",
   "metadata": {
    "scrolled": true
   },
   "outputs": [
    {
     "name": "stdout",
     "output_type": "stream",
     "text": [
      "[ 78795  78854  78889 ... 282847 282921 283042]\n"
     ]
    }
   ],
   "source": [
    "to_be_dropped = np.array(np.where(df.isnull().sum(axis = 1) > 10))[0]\n",
    "#np.shape(to_be_dropped)\n",
    "print(to_be_dropped)\n",
    "#print(len(to_be_dropped))\n",
    "df = df.drop(to_be_dropped)\n",
    "#len(df)"
   ]
  },
  {
   "cell_type": "code",
   "execution_count": 8,
   "id": "9f94d2c1",
   "metadata": {
    "scrolled": true
   },
   "outputs": [
    {
     "data": {
      "text/plain": [
       "1013558"
      ]
     },
     "execution_count": 8,
     "metadata": {},
     "output_type": "execute_result"
    }
   ],
   "source": [
    "len(df) "
   ]
  },
  {
   "cell_type": "code",
   "execution_count": 9,
   "id": "cdfb2a14",
   "metadata": {
    "scrolled": true
   },
   "outputs": [
    {
     "data": {
      "text/html": [
       "<div>\n",
       "<style scoped>\n",
       "    .dataframe tbody tr th:only-of-type {\n",
       "        vertical-align: middle;\n",
       "    }\n",
       "\n",
       "    .dataframe tbody tr th {\n",
       "        vertical-align: top;\n",
       "    }\n",
       "\n",
       "    .dataframe thead th {\n",
       "        text-align: right;\n",
       "    }\n",
       "</style>\n",
       "<table border=\"1\" class=\"dataframe\">\n",
       "  <thead>\n",
       "    <tr style=\"text-align: right;\">\n",
       "      <th></th>\n",
       "      <th>EXT1</th>\n",
       "      <th>EXT2</th>\n",
       "      <th>EXT3</th>\n",
       "      <th>EXT4</th>\n",
       "      <th>EXT5</th>\n",
       "      <th>EXT6</th>\n",
       "      <th>EXT7</th>\n",
       "      <th>EXT8</th>\n",
       "      <th>EXT9</th>\n",
       "      <th>EXT10</th>\n",
       "      <th>...</th>\n",
       "      <th>OPN7_E</th>\n",
       "      <th>OPN8_E</th>\n",
       "      <th>OPN9_E</th>\n",
       "      <th>OPN10_E</th>\n",
       "      <th>screenw</th>\n",
       "      <th>screenh</th>\n",
       "      <th>introelapse</th>\n",
       "      <th>testelapse</th>\n",
       "      <th>endelapse</th>\n",
       "      <th>IPC</th>\n",
       "    </tr>\n",
       "  </thead>\n",
       "  <tbody>\n",
       "    <tr>\n",
       "      <th>count</th>\n",
       "      <td>1.013558e+06</td>\n",
       "      <td>1.013558e+06</td>\n",
       "      <td>1.013558e+06</td>\n",
       "      <td>1.013558e+06</td>\n",
       "      <td>1.013558e+06</td>\n",
       "      <td>1.013558e+06</td>\n",
       "      <td>1.013558e+06</td>\n",
       "      <td>1.013558e+06</td>\n",
       "      <td>1.013558e+06</td>\n",
       "      <td>1.013558e+06</td>\n",
       "      <td>...</td>\n",
       "      <td>1.013558e+06</td>\n",
       "      <td>1.013558e+06</td>\n",
       "      <td>1.013558e+06</td>\n",
       "      <td>1.013558e+06</td>\n",
       "      <td>1.012127e+06</td>\n",
       "      <td>1.012127e+06</td>\n",
       "      <td>1.012127e+06</td>\n",
       "      <td>1.013558e+06</td>\n",
       "      <td>1.013558e+06</td>\n",
       "      <td>1.013558e+06</td>\n",
       "    </tr>\n",
       "    <tr>\n",
       "      <th>mean</th>\n",
       "      <td>2.648067e+00</td>\n",
       "      <td>2.773115e+00</td>\n",
       "      <td>3.288349e+00</td>\n",
       "      <td>3.140595e+00</td>\n",
       "      <td>3.276960e+00</td>\n",
       "      <td>2.401100e+00</td>\n",
       "      <td>2.771744e+00</td>\n",
       "      <td>3.414818e+00</td>\n",
       "      <td>2.963740e+00</td>\n",
       "      <td>3.556469e+00</td>\n",
       "      <td>...</td>\n",
       "      <td>7.689488e+03</td>\n",
       "      <td>5.423945e+03</td>\n",
       "      <td>6.325802e+03</td>\n",
       "      <td>5.336311e+03</td>\n",
       "      <td>1.149357e+03</td>\n",
       "      <td>8.262213e+02</td>\n",
       "      <td>9.599223e+02</td>\n",
       "      <td>6.754233e+02</td>\n",
       "      <td>2.704155e+03</td>\n",
       "      <td>1.044515e+01</td>\n",
       "    </tr>\n",
       "    <tr>\n",
       "      <th>std</th>\n",
       "      <td>1.264407e+00</td>\n",
       "      <td>1.323943e+00</td>\n",
       "      <td>1.215006e+00</td>\n",
       "      <td>1.237442e+00</td>\n",
       "      <td>1.277593e+00</td>\n",
       "      <td>1.225721e+00</td>\n",
       "      <td>1.400336e+00</td>\n",
       "      <td>1.271915e+00</td>\n",
       "      <td>1.346040e+00</td>\n",
       "      <td>1.305232e+00</td>\n",
       "      <td>...</td>\n",
       "      <td>5.841987e+05</td>\n",
       "      <td>2.629748e+05</td>\n",
       "      <td>4.298906e+05</td>\n",
       "      <td>4.408225e+05</td>\n",
       "      <td>5.600988e+02</td>\n",
       "      <td>1.802289e+02</td>\n",
       "      <td>5.106891e+04</td>\n",
       "      <td>2.017864e+04</td>\n",
       "      <td>1.485203e+06</td>\n",
       "      <td>3.982098e+01</td>\n",
       "    </tr>\n",
       "    <tr>\n",
       "      <th>min</th>\n",
       "      <td>0.000000e+00</td>\n",
       "      <td>0.000000e+00</td>\n",
       "      <td>0.000000e+00</td>\n",
       "      <td>0.000000e+00</td>\n",
       "      <td>0.000000e+00</td>\n",
       "      <td>0.000000e+00</td>\n",
       "      <td>0.000000e+00</td>\n",
       "      <td>0.000000e+00</td>\n",
       "      <td>0.000000e+00</td>\n",
       "      <td>0.000000e+00</td>\n",
       "      <td>...</td>\n",
       "      <td>-6.181300e+04</td>\n",
       "      <td>-5.001200e+04</td>\n",
       "      <td>-9.598600e+04</td>\n",
       "      <td>-3.594871e+06</td>\n",
       "      <td>0.000000e+00</td>\n",
       "      <td>0.000000e+00</td>\n",
       "      <td>0.000000e+00</td>\n",
       "      <td>1.000000e+00</td>\n",
       "      <td>1.000000e+00</td>\n",
       "      <td>1.000000e+00</td>\n",
       "    </tr>\n",
       "    <tr>\n",
       "      <th>25%</th>\n",
       "      <td>1.000000e+00</td>\n",
       "      <td>2.000000e+00</td>\n",
       "      <td>2.000000e+00</td>\n",
       "      <td>2.000000e+00</td>\n",
       "      <td>2.000000e+00</td>\n",
       "      <td>1.000000e+00</td>\n",
       "      <td>2.000000e+00</td>\n",
       "      <td>2.000000e+00</td>\n",
       "      <td>2.000000e+00</td>\n",
       "      <td>3.000000e+00</td>\n",
       "      <td>...</td>\n",
       "      <td>2.279000e+03</td>\n",
       "      <td>2.144000e+03</td>\n",
       "      <td>2.329000e+03</td>\n",
       "      <td>1.484000e+03</td>\n",
       "      <td>4.140000e+02</td>\n",
       "      <td>7.200000e+02</td>\n",
       "      <td>5.000000e+00</td>\n",
       "      <td>1.710000e+02</td>\n",
       "      <td>9.000000e+00</td>\n",
       "      <td>1.000000e+00</td>\n",
       "    </tr>\n",
       "    <tr>\n",
       "      <th>50%</th>\n",
       "      <td>3.000000e+00</td>\n",
       "      <td>3.000000e+00</td>\n",
       "      <td>3.000000e+00</td>\n",
       "      <td>3.000000e+00</td>\n",
       "      <td>3.000000e+00</td>\n",
       "      <td>2.000000e+00</td>\n",
       "      <td>3.000000e+00</td>\n",
       "      <td>4.000000e+00</td>\n",
       "      <td>3.000000e+00</td>\n",
       "      <td>4.000000e+00</td>\n",
       "      <td>...</td>\n",
       "      <td>3.208000e+03</td>\n",
       "      <td>3.051000e+03</td>\n",
       "      <td>3.269000e+03</td>\n",
       "      <td>2.192000e+03</td>\n",
       "      <td>1.366000e+03</td>\n",
       "      <td>7.680000e+02</td>\n",
       "      <td>1.000000e+01</td>\n",
       "      <td>2.240000e+02</td>\n",
       "      <td>1.300000e+01</td>\n",
       "      <td>1.000000e+00</td>\n",
       "    </tr>\n",
       "    <tr>\n",
       "      <th>75%</th>\n",
       "      <td>4.000000e+00</td>\n",
       "      <td>4.000000e+00</td>\n",
       "      <td>4.000000e+00</td>\n",
       "      <td>4.000000e+00</td>\n",
       "      <td>4.000000e+00</td>\n",
       "      <td>3.000000e+00</td>\n",
       "      <td>4.000000e+00</td>\n",
       "      <td>4.000000e+00</td>\n",
       "      <td>4.000000e+00</td>\n",
       "      <td>5.000000e+00</td>\n",
       "      <td>...</td>\n",
       "      <td>4.729000e+03</td>\n",
       "      <td>4.469000e+03</td>\n",
       "      <td>4.785000e+03</td>\n",
       "      <td>3.362000e+03</td>\n",
       "      <td>1.440000e+03</td>\n",
       "      <td>9.000000e+02</td>\n",
       "      <td>3.000000e+01</td>\n",
       "      <td>3.130000e+02</td>\n",
       "      <td>1.800000e+01</td>\n",
       "      <td>2.000000e+00</td>\n",
       "    </tr>\n",
       "    <tr>\n",
       "      <th>max</th>\n",
       "      <td>5.000000e+00</td>\n",
       "      <td>5.000000e+00</td>\n",
       "      <td>5.000000e+00</td>\n",
       "      <td>5.000000e+00</td>\n",
       "      <td>5.000000e+00</td>\n",
       "      <td>5.000000e+00</td>\n",
       "      <td>5.000000e+00</td>\n",
       "      <td>5.000000e+00</td>\n",
       "      <td>5.000000e+00</td>\n",
       "      <td>5.000000e+00</td>\n",
       "      <td>...</td>\n",
       "      <td>3.891434e+08</td>\n",
       "      <td>1.696693e+08</td>\n",
       "      <td>3.470326e+08</td>\n",
       "      <td>3.344289e+08</td>\n",
       "      <td>1.366000e+04</td>\n",
       "      <td>8.802000e+03</td>\n",
       "      <td>2.944307e+07</td>\n",
       "      <td>1.189272e+07</td>\n",
       "      <td>1.493327e+09</td>\n",
       "      <td>7.250000e+02</td>\n",
       "    </tr>\n",
       "  </tbody>\n",
       "</table>\n",
       "<p>8 rows × 106 columns</p>\n",
       "</div>"
      ],
      "text/plain": [
       "               EXT1          EXT2          EXT3          EXT4          EXT5  \\\n",
       "count  1.013558e+06  1.013558e+06  1.013558e+06  1.013558e+06  1.013558e+06   \n",
       "mean   2.648067e+00  2.773115e+00  3.288349e+00  3.140595e+00  3.276960e+00   \n",
       "std    1.264407e+00  1.323943e+00  1.215006e+00  1.237442e+00  1.277593e+00   \n",
       "min    0.000000e+00  0.000000e+00  0.000000e+00  0.000000e+00  0.000000e+00   \n",
       "25%    1.000000e+00  2.000000e+00  2.000000e+00  2.000000e+00  2.000000e+00   \n",
       "50%    3.000000e+00  3.000000e+00  3.000000e+00  3.000000e+00  3.000000e+00   \n",
       "75%    4.000000e+00  4.000000e+00  4.000000e+00  4.000000e+00  4.000000e+00   \n",
       "max    5.000000e+00  5.000000e+00  5.000000e+00  5.000000e+00  5.000000e+00   \n",
       "\n",
       "               EXT6          EXT7          EXT8          EXT9         EXT10  \\\n",
       "count  1.013558e+06  1.013558e+06  1.013558e+06  1.013558e+06  1.013558e+06   \n",
       "mean   2.401100e+00  2.771744e+00  3.414818e+00  2.963740e+00  3.556469e+00   \n",
       "std    1.225721e+00  1.400336e+00  1.271915e+00  1.346040e+00  1.305232e+00   \n",
       "min    0.000000e+00  0.000000e+00  0.000000e+00  0.000000e+00  0.000000e+00   \n",
       "25%    1.000000e+00  2.000000e+00  2.000000e+00  2.000000e+00  3.000000e+00   \n",
       "50%    2.000000e+00  3.000000e+00  4.000000e+00  3.000000e+00  4.000000e+00   \n",
       "75%    3.000000e+00  4.000000e+00  4.000000e+00  4.000000e+00  5.000000e+00   \n",
       "max    5.000000e+00  5.000000e+00  5.000000e+00  5.000000e+00  5.000000e+00   \n",
       "\n",
       "       ...        OPN7_E        OPN8_E        OPN9_E       OPN10_E  \\\n",
       "count  ...  1.013558e+06  1.013558e+06  1.013558e+06  1.013558e+06   \n",
       "mean   ...  7.689488e+03  5.423945e+03  6.325802e+03  5.336311e+03   \n",
       "std    ...  5.841987e+05  2.629748e+05  4.298906e+05  4.408225e+05   \n",
       "min    ... -6.181300e+04 -5.001200e+04 -9.598600e+04 -3.594871e+06   \n",
       "25%    ...  2.279000e+03  2.144000e+03  2.329000e+03  1.484000e+03   \n",
       "50%    ...  3.208000e+03  3.051000e+03  3.269000e+03  2.192000e+03   \n",
       "75%    ...  4.729000e+03  4.469000e+03  4.785000e+03  3.362000e+03   \n",
       "max    ...  3.891434e+08  1.696693e+08  3.470326e+08  3.344289e+08   \n",
       "\n",
       "            screenw       screenh   introelapse    testelapse     endelapse  \\\n",
       "count  1.012127e+06  1.012127e+06  1.012127e+06  1.013558e+06  1.013558e+06   \n",
       "mean   1.149357e+03  8.262213e+02  9.599223e+02  6.754233e+02  2.704155e+03   \n",
       "std    5.600988e+02  1.802289e+02  5.106891e+04  2.017864e+04  1.485203e+06   \n",
       "min    0.000000e+00  0.000000e+00  0.000000e+00  1.000000e+00  1.000000e+00   \n",
       "25%    4.140000e+02  7.200000e+02  5.000000e+00  1.710000e+02  9.000000e+00   \n",
       "50%    1.366000e+03  7.680000e+02  1.000000e+01  2.240000e+02  1.300000e+01   \n",
       "75%    1.440000e+03  9.000000e+02  3.000000e+01  3.130000e+02  1.800000e+01   \n",
       "max    1.366000e+04  8.802000e+03  2.944307e+07  1.189272e+07  1.493327e+09   \n",
       "\n",
       "                IPC  \n",
       "count  1.013558e+06  \n",
       "mean   1.044515e+01  \n",
       "std    3.982098e+01  \n",
       "min    1.000000e+00  \n",
       "25%    1.000000e+00  \n",
       "50%    1.000000e+00  \n",
       "75%    2.000000e+00  \n",
       "max    7.250000e+02  \n",
       "\n",
       "[8 rows x 106 columns]"
      ]
     },
     "execution_count": 9,
     "metadata": {},
     "output_type": "execute_result"
    }
   ],
   "source": [
    "df.describe()"
   ]
  },
  {
   "cell_type": "code",
   "execution_count": 10,
   "id": "2e50563e",
   "metadata": {
    "scrolled": true
   },
   "outputs": [
    {
     "data": {
      "text/html": [
       "<div>\n",
       "<style scoped>\n",
       "    .dataframe tbody tr th:only-of-type {\n",
       "        vertical-align: middle;\n",
       "    }\n",
       "\n",
       "    .dataframe tbody tr th {\n",
       "        vertical-align: top;\n",
       "    }\n",
       "\n",
       "    .dataframe thead th {\n",
       "        text-align: right;\n",
       "    }\n",
       "</style>\n",
       "<table border=\"1\" class=\"dataframe\">\n",
       "  <thead>\n",
       "    <tr style=\"text-align: right;\">\n",
       "      <th></th>\n",
       "      <th>EXT1</th>\n",
       "      <th>EXT2</th>\n",
       "      <th>EXT3</th>\n",
       "      <th>EXT4</th>\n",
       "      <th>EXT5</th>\n",
       "      <th>EXT6</th>\n",
       "      <th>EXT7</th>\n",
       "      <th>EXT8</th>\n",
       "      <th>EXT9</th>\n",
       "      <th>EXT10</th>\n",
       "    </tr>\n",
       "  </thead>\n",
       "  <tbody>\n",
       "    <tr>\n",
       "      <th>0</th>\n",
       "      <td>4.0</td>\n",
       "      <td>1.0</td>\n",
       "      <td>5.0</td>\n",
       "      <td>2.0</td>\n",
       "      <td>5.0</td>\n",
       "      <td>1.0</td>\n",
       "      <td>5.0</td>\n",
       "      <td>2.0</td>\n",
       "      <td>4.0</td>\n",
       "      <td>1.0</td>\n",
       "    </tr>\n",
       "    <tr>\n",
       "      <th>1</th>\n",
       "      <td>3.0</td>\n",
       "      <td>5.0</td>\n",
       "      <td>3.0</td>\n",
       "      <td>4.0</td>\n",
       "      <td>3.0</td>\n",
       "      <td>3.0</td>\n",
       "      <td>2.0</td>\n",
       "      <td>5.0</td>\n",
       "      <td>1.0</td>\n",
       "      <td>5.0</td>\n",
       "    </tr>\n",
       "    <tr>\n",
       "      <th>2</th>\n",
       "      <td>2.0</td>\n",
       "      <td>3.0</td>\n",
       "      <td>4.0</td>\n",
       "      <td>4.0</td>\n",
       "      <td>3.0</td>\n",
       "      <td>2.0</td>\n",
       "      <td>1.0</td>\n",
       "      <td>3.0</td>\n",
       "      <td>2.0</td>\n",
       "      <td>5.0</td>\n",
       "    </tr>\n",
       "    <tr>\n",
       "      <th>3</th>\n",
       "      <td>2.0</td>\n",
       "      <td>2.0</td>\n",
       "      <td>2.0</td>\n",
       "      <td>3.0</td>\n",
       "      <td>4.0</td>\n",
       "      <td>2.0</td>\n",
       "      <td>2.0</td>\n",
       "      <td>4.0</td>\n",
       "      <td>1.0</td>\n",
       "      <td>4.0</td>\n",
       "    </tr>\n",
       "    <tr>\n",
       "      <th>4</th>\n",
       "      <td>3.0</td>\n",
       "      <td>3.0</td>\n",
       "      <td>3.0</td>\n",
       "      <td>3.0</td>\n",
       "      <td>5.0</td>\n",
       "      <td>3.0</td>\n",
       "      <td>3.0</td>\n",
       "      <td>5.0</td>\n",
       "      <td>3.0</td>\n",
       "      <td>4.0</td>\n",
       "    </tr>\n",
       "    <tr>\n",
       "      <th>...</th>\n",
       "      <td>...</td>\n",
       "      <td>...</td>\n",
       "      <td>...</td>\n",
       "      <td>...</td>\n",
       "      <td>...</td>\n",
       "      <td>...</td>\n",
       "      <td>...</td>\n",
       "      <td>...</td>\n",
       "      <td>...</td>\n",
       "      <td>...</td>\n",
       "    </tr>\n",
       "    <tr>\n",
       "      <th>1015336</th>\n",
       "      <td>4.0</td>\n",
       "      <td>2.0</td>\n",
       "      <td>4.0</td>\n",
       "      <td>3.0</td>\n",
       "      <td>4.0</td>\n",
       "      <td>3.0</td>\n",
       "      <td>3.0</td>\n",
       "      <td>3.0</td>\n",
       "      <td>3.0</td>\n",
       "      <td>3.0</td>\n",
       "    </tr>\n",
       "    <tr>\n",
       "      <th>1015337</th>\n",
       "      <td>4.0</td>\n",
       "      <td>3.0</td>\n",
       "      <td>4.0</td>\n",
       "      <td>3.0</td>\n",
       "      <td>3.0</td>\n",
       "      <td>3.0</td>\n",
       "      <td>4.0</td>\n",
       "      <td>4.0</td>\n",
       "      <td>3.0</td>\n",
       "      <td>3.0</td>\n",
       "    </tr>\n",
       "    <tr>\n",
       "      <th>1015338</th>\n",
       "      <td>4.0</td>\n",
       "      <td>2.0</td>\n",
       "      <td>4.0</td>\n",
       "      <td>3.0</td>\n",
       "      <td>5.0</td>\n",
       "      <td>1.0</td>\n",
       "      <td>4.0</td>\n",
       "      <td>2.0</td>\n",
       "      <td>4.0</td>\n",
       "      <td>4.0</td>\n",
       "    </tr>\n",
       "    <tr>\n",
       "      <th>1015339</th>\n",
       "      <td>2.0</td>\n",
       "      <td>4.0</td>\n",
       "      <td>3.0</td>\n",
       "      <td>4.0</td>\n",
       "      <td>2.0</td>\n",
       "      <td>2.0</td>\n",
       "      <td>1.0</td>\n",
       "      <td>4.0</td>\n",
       "      <td>2.0</td>\n",
       "      <td>4.0</td>\n",
       "    </tr>\n",
       "    <tr>\n",
       "      <th>1015340</th>\n",
       "      <td>4.0</td>\n",
       "      <td>2.0</td>\n",
       "      <td>4.0</td>\n",
       "      <td>2.0</td>\n",
       "      <td>4.0</td>\n",
       "      <td>1.0</td>\n",
       "      <td>4.0</td>\n",
       "      <td>2.0</td>\n",
       "      <td>4.0</td>\n",
       "      <td>4.0</td>\n",
       "    </tr>\n",
       "  </tbody>\n",
       "</table>\n",
       "<p>1013558 rows × 10 columns</p>\n",
       "</div>"
      ],
      "text/plain": [
       "         EXT1  EXT2  EXT3  EXT4  EXT5  EXT6  EXT7  EXT8  EXT9  EXT10\n",
       "0         4.0   1.0   5.0   2.0   5.0   1.0   5.0   2.0   4.0    1.0\n",
       "1         3.0   5.0   3.0   4.0   3.0   3.0   2.0   5.0   1.0    5.0\n",
       "2         2.0   3.0   4.0   4.0   3.0   2.0   1.0   3.0   2.0    5.0\n",
       "3         2.0   2.0   2.0   3.0   4.0   2.0   2.0   4.0   1.0    4.0\n",
       "4         3.0   3.0   3.0   3.0   5.0   3.0   3.0   5.0   3.0    4.0\n",
       "...       ...   ...   ...   ...   ...   ...   ...   ...   ...    ...\n",
       "1015336   4.0   2.0   4.0   3.0   4.0   3.0   3.0   3.0   3.0    3.0\n",
       "1015337   4.0   3.0   4.0   3.0   3.0   3.0   4.0   4.0   3.0    3.0\n",
       "1015338   4.0   2.0   4.0   3.0   5.0   1.0   4.0   2.0   4.0    4.0\n",
       "1015339   2.0   4.0   3.0   4.0   2.0   2.0   1.0   4.0   2.0    4.0\n",
       "1015340   4.0   2.0   4.0   2.0   4.0   1.0   4.0   2.0   4.0    4.0\n",
       "\n",
       "[1013558 rows x 10 columns]"
      ]
     },
     "metadata": {},
     "output_type": "display_data"
    },
    {
     "data": {
      "text/html": [
       "<div>\n",
       "<style scoped>\n",
       "    .dataframe tbody tr th:only-of-type {\n",
       "        vertical-align: middle;\n",
       "    }\n",
       "\n",
       "    .dataframe tbody tr th {\n",
       "        vertical-align: top;\n",
       "    }\n",
       "\n",
       "    .dataframe thead th {\n",
       "        text-align: right;\n",
       "    }\n",
       "</style>\n",
       "<table border=\"1\" class=\"dataframe\">\n",
       "  <thead>\n",
       "    <tr style=\"text-align: right;\">\n",
       "      <th></th>\n",
       "      <th>EXT1_E</th>\n",
       "      <th>EXT2_E</th>\n",
       "      <th>EXT3_E</th>\n",
       "      <th>EXT4_E</th>\n",
       "      <th>EXT5_E</th>\n",
       "      <th>EXT6_E</th>\n",
       "      <th>EXT7_E</th>\n",
       "      <th>EXT8_E</th>\n",
       "      <th>EXT9_E</th>\n",
       "      <th>EXT10_E</th>\n",
       "    </tr>\n",
       "  </thead>\n",
       "  <tbody>\n",
       "    <tr>\n",
       "      <th>0</th>\n",
       "      <td>9419.0</td>\n",
       "      <td>5491.0</td>\n",
       "      <td>3959.0</td>\n",
       "      <td>4821.0</td>\n",
       "      <td>5611.0</td>\n",
       "      <td>2756.0</td>\n",
       "      <td>2388.0</td>\n",
       "      <td>2113.0</td>\n",
       "      <td>5900.0</td>\n",
       "      <td>4110.0</td>\n",
       "    </tr>\n",
       "    <tr>\n",
       "      <th>1</th>\n",
       "      <td>7235.0</td>\n",
       "      <td>3598.0</td>\n",
       "      <td>3315.0</td>\n",
       "      <td>2564.0</td>\n",
       "      <td>2976.0</td>\n",
       "      <td>3050.0</td>\n",
       "      <td>4787.0</td>\n",
       "      <td>3228.0</td>\n",
       "      <td>3465.0</td>\n",
       "      <td>3309.0</td>\n",
       "    </tr>\n",
       "    <tr>\n",
       "      <th>2</th>\n",
       "      <td>4657.0</td>\n",
       "      <td>3549.0</td>\n",
       "      <td>2543.0</td>\n",
       "      <td>3335.0</td>\n",
       "      <td>5847.0</td>\n",
       "      <td>2540.0</td>\n",
       "      <td>4922.0</td>\n",
       "      <td>3142.0</td>\n",
       "      <td>14621.0</td>\n",
       "      <td>2191.0</td>\n",
       "    </tr>\n",
       "    <tr>\n",
       "      <th>3</th>\n",
       "      <td>3996.0</td>\n",
       "      <td>2896.0</td>\n",
       "      <td>5096.0</td>\n",
       "      <td>4240.0</td>\n",
       "      <td>5168.0</td>\n",
       "      <td>5456.0</td>\n",
       "      <td>4360.0</td>\n",
       "      <td>4496.0</td>\n",
       "      <td>5240.0</td>\n",
       "      <td>4000.0</td>\n",
       "    </tr>\n",
       "    <tr>\n",
       "      <th>4</th>\n",
       "      <td>6004.0</td>\n",
       "      <td>3965.0</td>\n",
       "      <td>2721.0</td>\n",
       "      <td>3706.0</td>\n",
       "      <td>2968.0</td>\n",
       "      <td>2426.0</td>\n",
       "      <td>7339.0</td>\n",
       "      <td>3302.0</td>\n",
       "      <td>16819.0</td>\n",
       "      <td>3731.0</td>\n",
       "    </tr>\n",
       "    <tr>\n",
       "      <th>...</th>\n",
       "      <td>...</td>\n",
       "      <td>...</td>\n",
       "      <td>...</td>\n",
       "      <td>...</td>\n",
       "      <td>...</td>\n",
       "      <td>...</td>\n",
       "      <td>...</td>\n",
       "      <td>...</td>\n",
       "      <td>...</td>\n",
       "      <td>...</td>\n",
       "    </tr>\n",
       "    <tr>\n",
       "      <th>1015336</th>\n",
       "      <td>5694.0</td>\n",
       "      <td>3927.0</td>\n",
       "      <td>4600.0</td>\n",
       "      <td>5255.0</td>\n",
       "      <td>1688.0</td>\n",
       "      <td>2216.0</td>\n",
       "      <td>5064.0</td>\n",
       "      <td>3288.0</td>\n",
       "      <td>4207.0</td>\n",
       "      <td>3807.0</td>\n",
       "    </tr>\n",
       "    <tr>\n",
       "      <th>1015337</th>\n",
       "      <td>2382.0</td>\n",
       "      <td>1984.0</td>\n",
       "      <td>3696.0</td>\n",
       "      <td>1736.0</td>\n",
       "      <td>2272.0</td>\n",
       "      <td>2327.0</td>\n",
       "      <td>2088.0</td>\n",
       "      <td>2296.0</td>\n",
       "      <td>1585.0</td>\n",
       "      <td>3287.0</td>\n",
       "    </tr>\n",
       "    <tr>\n",
       "      <th>1015338</th>\n",
       "      <td>4077.0</td>\n",
       "      <td>2120.0</td>\n",
       "      <td>1688.0</td>\n",
       "      <td>2528.0</td>\n",
       "      <td>1721.0</td>\n",
       "      <td>2711.0</td>\n",
       "      <td>5329.0</td>\n",
       "      <td>2080.0</td>\n",
       "      <td>2992.0</td>\n",
       "      <td>2952.0</td>\n",
       "    </tr>\n",
       "    <tr>\n",
       "      <th>1015339</th>\n",
       "      <td>8647.0</td>\n",
       "      <td>2664.0</td>\n",
       "      <td>3544.0</td>\n",
       "      <td>2263.0</td>\n",
       "      <td>2248.0</td>\n",
       "      <td>3024.0</td>\n",
       "      <td>4704.0</td>\n",
       "      <td>3383.0</td>\n",
       "      <td>2488.0</td>\n",
       "      <td>3183.0</td>\n",
       "    </tr>\n",
       "    <tr>\n",
       "      <th>1015340</th>\n",
       "      <td>4425.0</td>\n",
       "      <td>2472.0</td>\n",
       "      <td>3163.0</td>\n",
       "      <td>2571.0</td>\n",
       "      <td>984.0</td>\n",
       "      <td>2853.0</td>\n",
       "      <td>2987.0</td>\n",
       "      <td>4771.0</td>\n",
       "      <td>3255.0</td>\n",
       "      <td>2918.0</td>\n",
       "    </tr>\n",
       "  </tbody>\n",
       "</table>\n",
       "<p>1013558 rows × 10 columns</p>\n",
       "</div>"
      ],
      "text/plain": [
       "         EXT1_E  EXT2_E  EXT3_E  EXT4_E  EXT5_E  EXT6_E  EXT7_E  EXT8_E  \\\n",
       "0        9419.0  5491.0  3959.0  4821.0  5611.0  2756.0  2388.0  2113.0   \n",
       "1        7235.0  3598.0  3315.0  2564.0  2976.0  3050.0  4787.0  3228.0   \n",
       "2        4657.0  3549.0  2543.0  3335.0  5847.0  2540.0  4922.0  3142.0   \n",
       "3        3996.0  2896.0  5096.0  4240.0  5168.0  5456.0  4360.0  4496.0   \n",
       "4        6004.0  3965.0  2721.0  3706.0  2968.0  2426.0  7339.0  3302.0   \n",
       "...         ...     ...     ...     ...     ...     ...     ...     ...   \n",
       "1015336  5694.0  3927.0  4600.0  5255.0  1688.0  2216.0  5064.0  3288.0   \n",
       "1015337  2382.0  1984.0  3696.0  1736.0  2272.0  2327.0  2088.0  2296.0   \n",
       "1015338  4077.0  2120.0  1688.0  2528.0  1721.0  2711.0  5329.0  2080.0   \n",
       "1015339  8647.0  2664.0  3544.0  2263.0  2248.0  3024.0  4704.0  3383.0   \n",
       "1015340  4425.0  2472.0  3163.0  2571.0   984.0  2853.0  2987.0  4771.0   \n",
       "\n",
       "          EXT9_E  EXT10_E  \n",
       "0         5900.0   4110.0  \n",
       "1         3465.0   3309.0  \n",
       "2        14621.0   2191.0  \n",
       "3         5240.0   4000.0  \n",
       "4        16819.0   3731.0  \n",
       "...          ...      ...  \n",
       "1015336   4207.0   3807.0  \n",
       "1015337   1585.0   3287.0  \n",
       "1015338   2992.0   2952.0  \n",
       "1015339   2488.0   3183.0  \n",
       "1015340   3255.0   2918.0  \n",
       "\n",
       "[1013558 rows x 10 columns]"
      ]
     },
     "metadata": {},
     "output_type": "display_data"
    },
    {
     "data": {
      "text/html": [
       "<div>\n",
       "<style scoped>\n",
       "    .dataframe tbody tr th:only-of-type {\n",
       "        vertical-align: middle;\n",
       "    }\n",
       "\n",
       "    .dataframe tbody tr th {\n",
       "        vertical-align: top;\n",
       "    }\n",
       "\n",
       "    .dataframe thead th {\n",
       "        text-align: right;\n",
       "    }\n",
       "</style>\n",
       "<table border=\"1\" class=\"dataframe\">\n",
       "  <thead>\n",
       "    <tr style=\"text-align: right;\">\n",
       "      <th></th>\n",
       "      <th>dateload</th>\n",
       "      <th>screenw</th>\n",
       "      <th>screenh</th>\n",
       "      <th>introelapse</th>\n",
       "      <th>testelapse</th>\n",
       "      <th>endelapse</th>\n",
       "      <th>IPC</th>\n",
       "      <th>country</th>\n",
       "      <th>lat_appx_lots_of_err</th>\n",
       "      <th>long_appx_lots_of_err</th>\n",
       "    </tr>\n",
       "  </thead>\n",
       "  <tbody>\n",
       "    <tr>\n",
       "      <th>0</th>\n",
       "      <td>2016-03-03 02:01:01</td>\n",
       "      <td>768.0</td>\n",
       "      <td>1024.0</td>\n",
       "      <td>9.0</td>\n",
       "      <td>234.0</td>\n",
       "      <td>6</td>\n",
       "      <td>1</td>\n",
       "      <td>GB</td>\n",
       "      <td>51.5448</td>\n",
       "      <td>0.1991</td>\n",
       "    </tr>\n",
       "    <tr>\n",
       "      <th>1</th>\n",
       "      <td>2016-03-03 02:01:20</td>\n",
       "      <td>1360.0</td>\n",
       "      <td>768.0</td>\n",
       "      <td>12.0</td>\n",
       "      <td>179.0</td>\n",
       "      <td>11</td>\n",
       "      <td>1</td>\n",
       "      <td>MY</td>\n",
       "      <td>3.1698</td>\n",
       "      <td>101.706</td>\n",
       "    </tr>\n",
       "    <tr>\n",
       "      <th>2</th>\n",
       "      <td>2016-03-03 02:01:56</td>\n",
       "      <td>1366.0</td>\n",
       "      <td>768.0</td>\n",
       "      <td>3.0</td>\n",
       "      <td>186.0</td>\n",
       "      <td>7</td>\n",
       "      <td>1</td>\n",
       "      <td>GB</td>\n",
       "      <td>54.9119</td>\n",
       "      <td>-1.3833</td>\n",
       "    </tr>\n",
       "    <tr>\n",
       "      <th>3</th>\n",
       "      <td>2016-03-03 02:02:02</td>\n",
       "      <td>1920.0</td>\n",
       "      <td>1200.0</td>\n",
       "      <td>186.0</td>\n",
       "      <td>219.0</td>\n",
       "      <td>7</td>\n",
       "      <td>1</td>\n",
       "      <td>GB</td>\n",
       "      <td>51.75</td>\n",
       "      <td>-1.25</td>\n",
       "    </tr>\n",
       "    <tr>\n",
       "      <th>4</th>\n",
       "      <td>2016-03-03 02:02:57</td>\n",
       "      <td>1366.0</td>\n",
       "      <td>768.0</td>\n",
       "      <td>8.0</td>\n",
       "      <td>315.0</td>\n",
       "      <td>17</td>\n",
       "      <td>2</td>\n",
       "      <td>KE</td>\n",
       "      <td>1.0</td>\n",
       "      <td>38.0</td>\n",
       "    </tr>\n",
       "    <tr>\n",
       "      <th>...</th>\n",
       "      <td>...</td>\n",
       "      <td>...</td>\n",
       "      <td>...</td>\n",
       "      <td>...</td>\n",
       "      <td>...</td>\n",
       "      <td>...</td>\n",
       "      <td>...</td>\n",
       "      <td>...</td>\n",
       "      <td>...</td>\n",
       "      <td>...</td>\n",
       "    </tr>\n",
       "    <tr>\n",
       "      <th>1015336</th>\n",
       "      <td>2018-11-08 12:04:58</td>\n",
       "      <td>1920.0</td>\n",
       "      <td>1080.0</td>\n",
       "      <td>3.0</td>\n",
       "      <td>160.0</td>\n",
       "      <td>10</td>\n",
       "      <td>2</td>\n",
       "      <td>US</td>\n",
       "      <td>39.9883</td>\n",
       "      <td>-75.2208</td>\n",
       "    </tr>\n",
       "    <tr>\n",
       "      <th>1015337</th>\n",
       "      <td>2018-11-08 12:07:18</td>\n",
       "      <td>1920.0</td>\n",
       "      <td>1080.0</td>\n",
       "      <td>3.0</td>\n",
       "      <td>122.0</td>\n",
       "      <td>7</td>\n",
       "      <td>1</td>\n",
       "      <td>US</td>\n",
       "      <td>38.0</td>\n",
       "      <td>-97.0</td>\n",
       "    </tr>\n",
       "    <tr>\n",
       "      <th>1015338</th>\n",
       "      <td>2018-11-08 12:07:49</td>\n",
       "      <td>1920.0</td>\n",
       "      <td>1080.0</td>\n",
       "      <td>2.0</td>\n",
       "      <td>135.0</td>\n",
       "      <td>12</td>\n",
       "      <td>6</td>\n",
       "      <td>US</td>\n",
       "      <td>36.1473</td>\n",
       "      <td>-86.777</td>\n",
       "    </tr>\n",
       "    <tr>\n",
       "      <th>1015339</th>\n",
       "      <td>2018-11-08 12:08:34</td>\n",
       "      <td>1920.0</td>\n",
       "      <td>1080.0</td>\n",
       "      <td>6.0</td>\n",
       "      <td>212.0</td>\n",
       "      <td>8</td>\n",
       "      <td>1</td>\n",
       "      <td>US</td>\n",
       "      <td>34.1067</td>\n",
       "      <td>-117.8067</td>\n",
       "    </tr>\n",
       "    <tr>\n",
       "      <th>1015340</th>\n",
       "      <td>2018-11-08 12:08:45</td>\n",
       "      <td>1920.0</td>\n",
       "      <td>1080.0</td>\n",
       "      <td>3.0</td>\n",
       "      <td>176.0</td>\n",
       "      <td>9</td>\n",
       "      <td>1</td>\n",
       "      <td>US</td>\n",
       "      <td>38.0</td>\n",
       "      <td>-97.0</td>\n",
       "    </tr>\n",
       "  </tbody>\n",
       "</table>\n",
       "<p>1013558 rows × 10 columns</p>\n",
       "</div>"
      ],
      "text/plain": [
       "                    dateload  screenw  screenh  introelapse  testelapse  \\\n",
       "0        2016-03-03 02:01:01    768.0   1024.0          9.0       234.0   \n",
       "1        2016-03-03 02:01:20   1360.0    768.0         12.0       179.0   \n",
       "2        2016-03-03 02:01:56   1366.0    768.0          3.0       186.0   \n",
       "3        2016-03-03 02:02:02   1920.0   1200.0        186.0       219.0   \n",
       "4        2016-03-03 02:02:57   1366.0    768.0          8.0       315.0   \n",
       "...                      ...      ...      ...          ...         ...   \n",
       "1015336  2018-11-08 12:04:58   1920.0   1080.0          3.0       160.0   \n",
       "1015337  2018-11-08 12:07:18   1920.0   1080.0          3.0       122.0   \n",
       "1015338  2018-11-08 12:07:49   1920.0   1080.0          2.0       135.0   \n",
       "1015339  2018-11-08 12:08:34   1920.0   1080.0          6.0       212.0   \n",
       "1015340  2018-11-08 12:08:45   1920.0   1080.0          3.0       176.0   \n",
       "\n",
       "         endelapse  IPC country lat_appx_lots_of_err long_appx_lots_of_err  \n",
       "0                6    1      GB              51.5448                0.1991  \n",
       "1               11    1      MY               3.1698               101.706  \n",
       "2                7    1      GB              54.9119               -1.3833  \n",
       "3                7    1      GB                51.75                 -1.25  \n",
       "4               17    2      KE                  1.0                  38.0  \n",
       "...            ...  ...     ...                  ...                   ...  \n",
       "1015336         10    2      US              39.9883              -75.2208  \n",
       "1015337          7    1      US                 38.0                 -97.0  \n",
       "1015338         12    6      US              36.1473               -86.777  \n",
       "1015339          8    1      US              34.1067             -117.8067  \n",
       "1015340          9    1      US                 38.0                 -97.0  \n",
       "\n",
       "[1013558 rows x 10 columns]"
      ]
     },
     "metadata": {},
     "output_type": "display_data"
    }
   ],
   "source": [
    "extrov = df.iloc[:,0:10]\n",
    "extrov_E = df.iloc[:,50:60]\n",
    "add_data = df.iloc[:,100:]\n",
    "neuro = df.iloc[:,10:20]\n",
    "neuro_E = df.iloc[:,60:70]\n",
    "agree = df.iloc[:,20:30]\n",
    "agree_E = df.iloc[:,70:80]\n",
    "consci = df.iloc[:,30:40]\n",
    "consci_E = df.iloc[:,80:90]\n",
    "openness = df.iloc[:,40:50]\n",
    "openness_E = df.iloc[:,90:100]\n",
    "\n",
    "display(extrov)\n",
    "display(extrov_E)\n",
    "display(add_data)"
   ]
  },
  {
   "cell_type": "code",
   "execution_count": 11,
   "id": "c9b11b88",
   "metadata": {},
   "outputs": [
    {
     "data": {
      "text/html": [
       "<div>\n",
       "<style scoped>\n",
       "    .dataframe tbody tr th:only-of-type {\n",
       "        vertical-align: middle;\n",
       "    }\n",
       "\n",
       "    .dataframe tbody tr th {\n",
       "        vertical-align: top;\n",
       "    }\n",
       "\n",
       "    .dataframe thead th {\n",
       "        text-align: right;\n",
       "    }\n",
       "</style>\n",
       "<table border=\"1\" class=\"dataframe\">\n",
       "  <thead>\n",
       "    <tr style=\"text-align: right;\">\n",
       "      <th></th>\n",
       "      <th>dateload</th>\n",
       "      <th>screenw</th>\n",
       "      <th>screenh</th>\n",
       "      <th>introelapse</th>\n",
       "      <th>testelapse</th>\n",
       "      <th>endelapse</th>\n",
       "      <th>IPC</th>\n",
       "      <th>country</th>\n",
       "      <th>lat_appx_lots_of_err</th>\n",
       "      <th>long_appx_lots_of_err</th>\n",
       "    </tr>\n",
       "  </thead>\n",
       "  <tbody>\n",
       "    <tr>\n",
       "      <th>0</th>\n",
       "      <td>2016-03-03 02:01:01</td>\n",
       "      <td>768.0</td>\n",
       "      <td>1024.0</td>\n",
       "      <td>9.0</td>\n",
       "      <td>234.0</td>\n",
       "      <td>6</td>\n",
       "      <td>1</td>\n",
       "      <td>GB</td>\n",
       "      <td>51.5448</td>\n",
       "      <td>0.1991</td>\n",
       "    </tr>\n",
       "    <tr>\n",
       "      <th>1</th>\n",
       "      <td>2016-03-03 02:01:20</td>\n",
       "      <td>1360.0</td>\n",
       "      <td>768.0</td>\n",
       "      <td>12.0</td>\n",
       "      <td>179.0</td>\n",
       "      <td>11</td>\n",
       "      <td>1</td>\n",
       "      <td>MY</td>\n",
       "      <td>3.1698</td>\n",
       "      <td>101.706</td>\n",
       "    </tr>\n",
       "    <tr>\n",
       "      <th>2</th>\n",
       "      <td>2016-03-03 02:01:56</td>\n",
       "      <td>1366.0</td>\n",
       "      <td>768.0</td>\n",
       "      <td>3.0</td>\n",
       "      <td>186.0</td>\n",
       "      <td>7</td>\n",
       "      <td>1</td>\n",
       "      <td>GB</td>\n",
       "      <td>54.9119</td>\n",
       "      <td>-1.3833</td>\n",
       "    </tr>\n",
       "    <tr>\n",
       "      <th>3</th>\n",
       "      <td>2016-03-03 02:02:02</td>\n",
       "      <td>1920.0</td>\n",
       "      <td>1200.0</td>\n",
       "      <td>186.0</td>\n",
       "      <td>219.0</td>\n",
       "      <td>7</td>\n",
       "      <td>1</td>\n",
       "      <td>GB</td>\n",
       "      <td>51.75</td>\n",
       "      <td>-1.25</td>\n",
       "    </tr>\n",
       "    <tr>\n",
       "      <th>4</th>\n",
       "      <td>2016-03-03 02:02:57</td>\n",
       "      <td>1366.0</td>\n",
       "      <td>768.0</td>\n",
       "      <td>8.0</td>\n",
       "      <td>315.0</td>\n",
       "      <td>17</td>\n",
       "      <td>2</td>\n",
       "      <td>KE</td>\n",
       "      <td>1.0</td>\n",
       "      <td>38.0</td>\n",
       "    </tr>\n",
       "    <tr>\n",
       "      <th>5</th>\n",
       "      <td>2016-03-03 02:03:12</td>\n",
       "      <td>1600.0</td>\n",
       "      <td>1000.0</td>\n",
       "      <td>4.0</td>\n",
       "      <td>196.0</td>\n",
       "      <td>3</td>\n",
       "      <td>1</td>\n",
       "      <td>SE</td>\n",
       "      <td>59.3333</td>\n",
       "      <td>18.05</td>\n",
       "    </tr>\n",
       "    <tr>\n",
       "      <th>6</th>\n",
       "      <td>2016-03-03 02:05:00</td>\n",
       "      <td>360.0</td>\n",
       "      <td>640.0</td>\n",
       "      <td>36.0</td>\n",
       "      <td>179.0</td>\n",
       "      <td>10</td>\n",
       "      <td>1</td>\n",
       "      <td>US</td>\n",
       "      <td>30.3322</td>\n",
       "      <td>-81.6556</td>\n",
       "    </tr>\n",
       "    <tr>\n",
       "      <th>7</th>\n",
       "      <td>2016-03-03 02:05:08</td>\n",
       "      <td>1440.0</td>\n",
       "      <td>900.0</td>\n",
       "      <td>15.0</td>\n",
       "      <td>210.0</td>\n",
       "      <td>17</td>\n",
       "      <td>1</td>\n",
       "      <td>MY</td>\n",
       "      <td>2.9927</td>\n",
       "      <td>101.7909</td>\n",
       "    </tr>\n",
       "    <tr>\n",
       "      <th>8</th>\n",
       "      <td>2016-03-03 02:05:27</td>\n",
       "      <td>2560.0</td>\n",
       "      <td>1440.0</td>\n",
       "      <td>2.0</td>\n",
       "      <td>181.0</td>\n",
       "      <td>4</td>\n",
       "      <td>1</td>\n",
       "      <td>GB</td>\n",
       "      <td>53.423</td>\n",
       "      <td>-2.2166</td>\n",
       "    </tr>\n",
       "    <tr>\n",
       "      <th>9</th>\n",
       "      <td>2016-03-03 02:08:06</td>\n",
       "      <td>1600.0</td>\n",
       "      <td>900.0</td>\n",
       "      <td>6.0</td>\n",
       "      <td>261.0</td>\n",
       "      <td>13</td>\n",
       "      <td>1</td>\n",
       "      <td>FI</td>\n",
       "      <td>60.1708</td>\n",
       "      <td>24.9375</td>\n",
       "    </tr>\n",
       "  </tbody>\n",
       "</table>\n",
       "</div>"
      ],
      "text/plain": [
       "              dateload  screenw  screenh  introelapse  testelapse  endelapse  \\\n",
       "0  2016-03-03 02:01:01    768.0   1024.0          9.0       234.0          6   \n",
       "1  2016-03-03 02:01:20   1360.0    768.0         12.0       179.0         11   \n",
       "2  2016-03-03 02:01:56   1366.0    768.0          3.0       186.0          7   \n",
       "3  2016-03-03 02:02:02   1920.0   1200.0        186.0       219.0          7   \n",
       "4  2016-03-03 02:02:57   1366.0    768.0          8.0       315.0         17   \n",
       "5  2016-03-03 02:03:12   1600.0   1000.0          4.0       196.0          3   \n",
       "6  2016-03-03 02:05:00    360.0    640.0         36.0       179.0         10   \n",
       "7  2016-03-03 02:05:08   1440.0    900.0         15.0       210.0         17   \n",
       "8  2016-03-03 02:05:27   2560.0   1440.0          2.0       181.0          4   \n",
       "9  2016-03-03 02:08:06   1600.0    900.0          6.0       261.0         13   \n",
       "\n",
       "   IPC country lat_appx_lots_of_err long_appx_lots_of_err  \n",
       "0    1      GB              51.5448                0.1991  \n",
       "1    1      MY               3.1698               101.706  \n",
       "2    1      GB              54.9119               -1.3833  \n",
       "3    1      GB                51.75                 -1.25  \n",
       "4    2      KE                  1.0                  38.0  \n",
       "5    1      SE              59.3333                 18.05  \n",
       "6    1      US              30.3322              -81.6556  \n",
       "7    1      MY               2.9927              101.7909  \n",
       "8    1      GB               53.423               -2.2166  \n",
       "9    1      FI              60.1708               24.9375  "
      ]
     },
     "execution_count": 11,
     "metadata": {},
     "output_type": "execute_result"
    }
   ],
   "source": [
    "add_data.head(10)"
   ]
  },
  {
   "cell_type": "code",
   "execution_count": 12,
   "id": "b13f10c2",
   "metadata": {},
   "outputs": [
    {
     "name": "stdout",
     "output_type": "stream",
     "text": [
      "224\n",
      "['GB' 'MY' 'KE' 'SE' 'US' 'FI' 'UA' 'PH' 'FR' 'AU' 'IN' 'CA' 'NL' 'ZA'\n",
      " 'HK' 'BR' 'CH' 'TH' 'IT' 'ES' 'AE' 'HR' 'GR' 'IE' 'OM' 'DE' 'PT' 'SG'\n",
      " 'NONE' 'RO' 'NO' 'BD' 'BN' 'NG' 'LT' 'ET' 'ID' 'BE' 'AT' 'DK' 'TZ' 'LU'\n",
      " 'PL' 'JP' 'MX' 'CY' 'UG' 'LK' 'TR' 'MM' 'CO' 'EE' 'AR' 'IS' 'HU' 'PR'\n",
      " 'PK' 'TN' 'LV' 'CZ' 'NZ' 'RS' 'IL' 'JM' 'CL' 'QA' 'SA' 'VN' 'KZ' 'BA'\n",
      " 'MU' 'EG' 'PE' nan 'SI' 'JO' 'TW' 'DO' 'DZ' 'KW' 'MA' 'MT' 'TT' 'BS' 'VE'\n",
      " 'RU' 'KR' 'LR' 'GT' 'BG' 'IM' 'GH' 'SO' 'SK' 'MV' 'CN' 'AZ' 'AL' 'KH'\n",
      " 'LB' 'UY' 'ZW' 'UZ' 'HN' 'CR' 'GE' 'GI' 'MO' 'NP' 'IR' 'MK' 'MN' 'ZM'\n",
      " 'NI' 'BH' 'SD' 'BZ' 'GD' 'KY' 'BB' 'CI' 'PG' 'AG' 'VI' 'PY' 'PA' 'SZ'\n",
      " 'SV' 'ME' 'BM' 'AO' 'KG' 'FJ' 'VC' 'AF' 'RW' 'GG' 'BY' 'GP' 'AX' 'LY'\n",
      " 'JE' 'MP' 'SY' 'PS' 'GA' 'MD' 'GU' 'AM' 'EC' 'VG' 'YE' 'CW' 'PF' 'DM'\n",
      " 'BW' 'BI' 'AW' 'CM' 'LC' 'GY' 'CV' 'LS' 'GM' 'IQ' 'BO' 'LA' 'XK' 'SR'\n",
      " 'SS' 'CU' 'NC' 'MZ' 'SN' 'SC' 'FO' 'MW' 'PW' 'MG' 'NU' 'AI' 'KN' 'VU'\n",
      " 'MC' 'CK' 'MQ' 'BJ' 'BT' 'AQ' 'GL' 'MS' 'HT' 'FK' 'CD' 'MH' 'TC' 'RE'\n",
      " 'ML' 'BQ' 'CG' 'MR' 'BF' 'TJ' 'SM' 'AD' 'GF' 'SL' 'KM' 'LI' 'TG' 'SX'\n",
      " 'FM' 'TO' 'WS' 'TL' 'GQ' 'TD' 'MF' 'PM' 'NE' 'DJ' 'GN' 'AS' 'SH']\n",
      "77\n"
     ]
    }
   ],
   "source": [
    "print(len(df['country'].unique()))\n",
    "print(df['country'].unique())\n",
    "print(df['country'].isnull().sum())"
   ]
  },
  {
   "cell_type": "code",
   "execution_count": null,
   "id": "10ce0936",
   "metadata": {
    "scrolled": false
   },
   "outputs": [
    {
     "name": "stdout",
     "output_type": "stream",
     "text": [
      "EXT1     1.000000\n",
      "EXT2    -0.439143\n",
      "EXT3     0.464780\n",
      "EXT4    -0.486624\n",
      "EXT5     0.478108\n",
      "EXT6    -0.323412\n",
      "EXT7     0.581620\n",
      "EXT8    -0.368110\n",
      "EXT9     0.470591\n",
      "EXT10   -0.410360\n",
      "Name: EXT1, dtype: float64\n"
     ]
    }
   ],
   "source": [
    "print(extrov.corr()['EXT1'])\n",
    "sns.heatmap(extrov.corr())\n",
    "plt.show()\n",
    "sns.heatmap(neuro.corr())\n",
    "plt.show()\n",
    "sns.heatmap(agree.corr())\n",
    "plt.show()\n",
    "sns.heatmap(consci.corr())\n",
    "plt.show()\n",
    "sns.heatmap(openness.corr())\n",
    "plt.show()\n",
    "#wanted to visualise correlations among variables, but heatmap function doesnot seem to work in my jupyter notebook"
   ]
  },
  {
   "cell_type": "code",
   "execution_count": 50,
   "id": "c9d57b91",
   "metadata": {},
   "outputs": [
    {
     "data": {
      "image/png": "[encoded data removed]",
      "text/plain": [
       "<Figure size 432x288 with 1 Axes>"
      ]
     },
     "metadata": {
      "needs_background": "light"
     },
     "output_type": "display_data"
    }
   ],
   "source": [
    "sns.countplot(y = 'country', data = df)\n",
    "plt.show()"
   ]
  },
  {
   "cell_type": "code",
   "execution_count": 14,
   "id": "8977c885",
   "metadata": {},
   "outputs": [
    {
     "data": {
      "text/plain": [
       "EXT1     2.648067\n",
       "EXT2     2.773115\n",
       "EXT3     3.288349\n",
       "EXT4     3.140595\n",
       "EXT5     3.276960\n",
       "EXT6     2.401100\n",
       "EXT7     2.771744\n",
       "EXT8     3.414818\n",
       "EXT9     2.963740\n",
       "EXT10    3.556469\n",
       "dtype: float64"
      ]
     },
     "execution_count": 14,
     "metadata": {},
     "output_type": "execute_result"
    }
   ],
   "source": [
    "#find mean values of each response\n",
    "extrov.mean(axis=0)"
   ]
  },
  {
   "cell_type": "code",
   "execution_count": 15,
   "id": "1509aa6a",
   "metadata": {},
   "outputs": [
    {
     "data": {
      "text/plain": [
       "EST1     3.285969\n",
       "EST2     3.165072\n",
       "EST3     3.846466\n",
       "EST4     2.663756\n",
       "EST5     2.843086\n",
       "EST6     2.841154\n",
       "EST7     3.050394\n",
       "EST8     2.683485\n",
       "EST9     3.088511\n",
       "EST10    2.773504\n",
       "dtype: float64"
      ]
     },
     "execution_count": 15,
     "metadata": {},
     "output_type": "execute_result"
    }
   ],
   "source": [
    "neuro.mean(axis=0)"
   ]
  },
  {
   "cell_type": "code",
   "execution_count": 16,
   "id": "c16e3ae6",
   "metadata": {},
   "outputs": [
    {
     "data": {
      "text/plain": [
       "AGR1     2.255316\n",
       "AGR2     3.831103\n",
       "AGR3     2.259957\n",
       "AGR4     3.927497\n",
       "AGR5     2.270857\n",
       "AGR6     3.743075\n",
       "AGR7     2.195806\n",
       "AGR8     3.689389\n",
       "AGR9     3.789116\n",
       "AGR10    3.592351\n",
       "dtype: float64"
      ]
     },
     "execution_count": 16,
     "metadata": {},
     "output_type": "execute_result"
    }
   ],
   "source": [
    "agree.mean(axis=0)"
   ]
  },
  {
   "cell_type": "code",
   "execution_count": 17,
   "id": "6674da78",
   "metadata": {},
   "outputs": [
    {
     "data": {
      "text/plain": [
       "CSN1     3.297999\n",
       "CSN2     2.930295\n",
       "CSN3     3.975280\n",
       "CSN4     2.617866\n",
       "CSN5     2.625832\n",
       "CSN6     2.831821\n",
       "CSN7     3.698187\n",
       "CSN8     2.465306\n",
       "CSN9     3.200695\n",
       "CSN10    3.590596\n",
       "dtype: float64"
      ]
     },
     "execution_count": 17,
     "metadata": {},
     "output_type": "execute_result"
    }
   ],
   "source": [
    "consci.mean(axis=0)"
   ]
  },
  {
   "cell_type": "code",
   "execution_count": 18,
   "id": "7b0b7b6e",
   "metadata": {},
   "outputs": [
    {
     "data": {
      "text/plain": [
       "OPN1     3.654636\n",
       "OPN2     2.075933\n",
       "OPN3     4.000068\n",
       "OPN4     1.999891\n",
       "OPN5     3.792905\n",
       "OPN6     1.894605\n",
       "OPN7     3.976375\n",
       "OPN8     3.182453\n",
       "OPN9     4.122993\n",
       "OPN10    3.958441\n",
       "dtype: float64"
      ]
     },
     "execution_count": 18,
     "metadata": {},
     "output_type": "execute_result"
    }
   ],
   "source": [
    "openness.mean(axis=0)"
   ]
  },
  {
   "cell_type": "code",
   "execution_count": 19,
   "id": "8bec99e4",
   "metadata": {},
   "outputs": [],
   "source": [
    "df1 = df.drop(df.columns[50:],axis=1)\n",
    "#work with only first 50 columns"
   ]
  },
  {
   "cell_type": "code",
   "execution_count": 20,
   "id": "da4b2704",
   "metadata": {},
   "outputs": [
    {
     "data": {
      "text/html": [
       "<div>\n",
       "<style scoped>\n",
       "    .dataframe tbody tr th:only-of-type {\n",
       "        vertical-align: middle;\n",
       "    }\n",
       "\n",
       "    .dataframe tbody tr th {\n",
       "        vertical-align: top;\n",
       "    }\n",
       "\n",
       "    .dataframe thead th {\n",
       "        text-align: right;\n",
       "    }\n",
       "</style>\n",
       "<table border=\"1\" class=\"dataframe\">\n",
       "  <thead>\n",
       "    <tr style=\"text-align: right;\">\n",
       "      <th></th>\n",
       "      <th>EXT1</th>\n",
       "      <th>EXT2</th>\n",
       "      <th>EXT3</th>\n",
       "      <th>EXT4</th>\n",
       "      <th>EXT5</th>\n",
       "      <th>EXT6</th>\n",
       "      <th>EXT7</th>\n",
       "      <th>EXT8</th>\n",
       "      <th>EXT9</th>\n",
       "      <th>EXT10</th>\n",
       "      <th>...</th>\n",
       "      <th>OPN1</th>\n",
       "      <th>OPN2</th>\n",
       "      <th>OPN3</th>\n",
       "      <th>OPN4</th>\n",
       "      <th>OPN5</th>\n",
       "      <th>OPN6</th>\n",
       "      <th>OPN7</th>\n",
       "      <th>OPN8</th>\n",
       "      <th>OPN9</th>\n",
       "      <th>OPN10</th>\n",
       "    </tr>\n",
       "  </thead>\n",
       "  <tbody>\n",
       "    <tr>\n",
       "      <th>0</th>\n",
       "      <td>4.0</td>\n",
       "      <td>1.0</td>\n",
       "      <td>5.0</td>\n",
       "      <td>2.0</td>\n",
       "      <td>5.0</td>\n",
       "      <td>1.0</td>\n",
       "      <td>5.0</td>\n",
       "      <td>2.0</td>\n",
       "      <td>4.0</td>\n",
       "      <td>1.0</td>\n",
       "      <td>...</td>\n",
       "      <td>5.0</td>\n",
       "      <td>1.0</td>\n",
       "      <td>4.0</td>\n",
       "      <td>1.0</td>\n",
       "      <td>4.0</td>\n",
       "      <td>1.0</td>\n",
       "      <td>5.0</td>\n",
       "      <td>3.0</td>\n",
       "      <td>4.0</td>\n",
       "      <td>5.0</td>\n",
       "    </tr>\n",
       "    <tr>\n",
       "      <th>1</th>\n",
       "      <td>3.0</td>\n",
       "      <td>5.0</td>\n",
       "      <td>3.0</td>\n",
       "      <td>4.0</td>\n",
       "      <td>3.0</td>\n",
       "      <td>3.0</td>\n",
       "      <td>2.0</td>\n",
       "      <td>5.0</td>\n",
       "      <td>1.0</td>\n",
       "      <td>5.0</td>\n",
       "      <td>...</td>\n",
       "      <td>1.0</td>\n",
       "      <td>2.0</td>\n",
       "      <td>4.0</td>\n",
       "      <td>2.0</td>\n",
       "      <td>3.0</td>\n",
       "      <td>1.0</td>\n",
       "      <td>4.0</td>\n",
       "      <td>2.0</td>\n",
       "      <td>5.0</td>\n",
       "      <td>3.0</td>\n",
       "    </tr>\n",
       "    <tr>\n",
       "      <th>2</th>\n",
       "      <td>2.0</td>\n",
       "      <td>3.0</td>\n",
       "      <td>4.0</td>\n",
       "      <td>4.0</td>\n",
       "      <td>3.0</td>\n",
       "      <td>2.0</td>\n",
       "      <td>1.0</td>\n",
       "      <td>3.0</td>\n",
       "      <td>2.0</td>\n",
       "      <td>5.0</td>\n",
       "      <td>...</td>\n",
       "      <td>5.0</td>\n",
       "      <td>1.0</td>\n",
       "      <td>2.0</td>\n",
       "      <td>1.0</td>\n",
       "      <td>4.0</td>\n",
       "      <td>2.0</td>\n",
       "      <td>5.0</td>\n",
       "      <td>3.0</td>\n",
       "      <td>4.0</td>\n",
       "      <td>4.0</td>\n",
       "    </tr>\n",
       "    <tr>\n",
       "      <th>3</th>\n",
       "      <td>2.0</td>\n",
       "      <td>2.0</td>\n",
       "      <td>2.0</td>\n",
       "      <td>3.0</td>\n",
       "      <td>4.0</td>\n",
       "      <td>2.0</td>\n",
       "      <td>2.0</td>\n",
       "      <td>4.0</td>\n",
       "      <td>1.0</td>\n",
       "      <td>4.0</td>\n",
       "      <td>...</td>\n",
       "      <td>4.0</td>\n",
       "      <td>2.0</td>\n",
       "      <td>5.0</td>\n",
       "      <td>2.0</td>\n",
       "      <td>3.0</td>\n",
       "      <td>1.0</td>\n",
       "      <td>4.0</td>\n",
       "      <td>4.0</td>\n",
       "      <td>3.0</td>\n",
       "      <td>3.0</td>\n",
       "    </tr>\n",
       "    <tr>\n",
       "      <th>4</th>\n",
       "      <td>3.0</td>\n",
       "      <td>3.0</td>\n",
       "      <td>3.0</td>\n",
       "      <td>3.0</td>\n",
       "      <td>5.0</td>\n",
       "      <td>3.0</td>\n",
       "      <td>3.0</td>\n",
       "      <td>5.0</td>\n",
       "      <td>3.0</td>\n",
       "      <td>4.0</td>\n",
       "      <td>...</td>\n",
       "      <td>5.0</td>\n",
       "      <td>1.0</td>\n",
       "      <td>5.0</td>\n",
       "      <td>1.0</td>\n",
       "      <td>5.0</td>\n",
       "      <td>1.0</td>\n",
       "      <td>5.0</td>\n",
       "      <td>3.0</td>\n",
       "      <td>5.0</td>\n",
       "      <td>5.0</td>\n",
       "    </tr>\n",
       "  </tbody>\n",
       "</table>\n",
       "<p>5 rows × 50 columns</p>\n",
       "</div>"
      ],
      "text/plain": [
       "   EXT1  EXT2  EXT3  EXT4  EXT5  EXT6  EXT7  EXT8  EXT9  EXT10  ...  OPN1  \\\n",
       "0   4.0   1.0   5.0   2.0   5.0   1.0   5.0   2.0   4.0    1.0  ...   5.0   \n",
       "1   3.0   5.0   3.0   4.0   3.0   3.0   2.0   5.0   1.0    5.0  ...   1.0   \n",
       "2   2.0   3.0   4.0   4.0   3.0   2.0   1.0   3.0   2.0    5.0  ...   5.0   \n",
       "3   2.0   2.0   2.0   3.0   4.0   2.0   2.0   4.0   1.0    4.0  ...   4.0   \n",
       "4   3.0   3.0   3.0   3.0   5.0   3.0   3.0   5.0   3.0    4.0  ...   5.0   \n",
       "\n",
       "   OPN2  OPN3  OPN4  OPN5  OPN6  OPN7  OPN8  OPN9  OPN10  \n",
       "0   1.0   4.0   1.0   4.0   1.0   5.0   3.0   4.0    5.0  \n",
       "1   2.0   4.0   2.0   3.0   1.0   4.0   2.0   5.0    3.0  \n",
       "2   1.0   2.0   1.0   4.0   2.0   5.0   3.0   4.0    4.0  \n",
       "3   2.0   5.0   2.0   3.0   1.0   4.0   4.0   3.0    3.0  \n",
       "4   1.0   5.0   1.0   5.0   1.0   5.0   3.0   5.0    5.0  \n",
       "\n",
       "[5 rows x 50 columns]"
      ]
     },
     "execution_count": 20,
     "metadata": {},
     "output_type": "execute_result"
    }
   ],
   "source": [
    "df1.head()"
   ]
  },
  {
   "cell_type": "code",
   "execution_count": 21,
   "id": "236335c6",
   "metadata": {},
   "outputs": [],
   "source": [
    "df1.dropna(inplace=True)"
   ]
  },
  {
   "cell_type": "code",
   "execution_count": 22,
   "id": "e35806aa",
   "metadata": {},
   "outputs": [
    {
     "data": {
      "text/plain": [
       "1013558"
      ]
     },
     "execution_count": 22,
     "metadata": {},
     "output_type": "execute_result"
    }
   ],
   "source": [
    "len(df1)"
   ]
  },
  {
   "cell_type": "code",
   "execution_count": 24,
   "id": "48e34878",
   "metadata": {},
   "outputs": [
    {
     "name": "stdout",
     "output_type": "stream",
     "text": [
      "EXT1     1.000000\n",
      "EXT2    -0.439143\n",
      "EXT3     0.464780\n",
      "EXT4    -0.486624\n",
      "EXT5     0.478108\n",
      "EXT6    -0.323412\n",
      "EXT7     0.581620\n",
      "EXT8    -0.368110\n",
      "EXT9     0.470591\n",
      "EXT10   -0.410360\n",
      "Name: EXT1, dtype: float64\n"
     ]
    }
   ],
   "source": [
    "print(extrov.corr()['EXT1'])"
   ]
  },
  {
   "cell_type": "code",
   "execution_count": 25,
   "id": "9ca843ee",
   "metadata": {},
   "outputs": [
    {
     "name": "stdout",
     "output_type": "stream",
     "text": [
      "EXT1    -0.439143\n",
      "EXT2     1.000000\n",
      "EXT3    -0.412251\n",
      "EXT4     0.552499\n",
      "EXT5    -0.500491\n",
      "EXT6     0.541673\n",
      "EXT7    -0.444508\n",
      "EXT8     0.397680\n",
      "EXT9    -0.364016\n",
      "EXT10    0.490731\n",
      "Name: EXT2, dtype: float64\n"
     ]
    }
   ],
   "source": [
    "print(extrov.corr()['EXT2'])"
   ]
  },
  {
   "cell_type": "code",
   "execution_count": 26,
   "id": "ca0eebac",
   "metadata": {},
   "outputs": [],
   "source": [
    "from sklearn.decomposition import PCA\n",
    "#trying principal component analysis if it is helpful"
   ]
  },
  {
   "cell_type": "code",
   "execution_count": 27,
   "id": "a6b9f0cf",
   "metadata": {},
   "outputs": [],
   "source": [
    "from sklearn.preprocessing import StandardScaler"
   ]
  },
  {
   "cell_type": "code",
   "execution_count": 28,
   "id": "3b9f4eb1",
   "metadata": {},
   "outputs": [],
   "source": [
    "scale = StandardScaler()\n",
    "scale.fit(df1)\n",
    "df1_scaled = scale.transform(df1)"
   ]
  },
  {
   "cell_type": "code",
   "execution_count": 29,
   "id": "13150510",
   "metadata": {},
   "outputs": [],
   "source": [
    "#try to reduce the number of parameters to ease visualisation\n",
    "pc = PCA(n_components=3)\n",
    "pc.fit(df1_scaled)\n",
    "x = pc.transform(df1_scaled)"
   ]
  },
  {
   "cell_type": "code",
   "execution_count": 30,
   "id": "1985a1ca",
   "metadata": {},
   "outputs": [
    {
     "data": {
      "text/plain": [
       "array([[-4.28583135, -0.11914537,  1.93585659],\n",
       "       [ 0.43620996,  1.33624963, -2.35617353],\n",
       "       [-0.55053359,  1.32922013, -1.16385172],\n",
       "       ...,\n",
       "       [-1.47728014, -1.85510441,  3.53134715],\n",
       "       [ 1.67993948,  0.10257708, -2.12751332],\n",
       "       [-2.31006593, -1.48555774,  1.31422616]])"
      ]
     },
     "execution_count": 30,
     "metadata": {},
     "output_type": "execute_result"
    }
   ],
   "source": [
    "x"
   ]
  },
  {
   "cell_type": "code",
   "execution_count": 31,
   "id": "2f190cf0",
   "metadata": {},
   "outputs": [
    {
     "data": {
      "text/plain": [
       "(1013558, 3)"
      ]
     },
     "execution_count": 31,
     "metadata": {},
     "output_type": "execute_result"
    }
   ],
   "source": [
    "x.shape"
   ]
  },
  {
   "cell_type": "code",
   "execution_count": 32,
   "id": "aa678206",
   "metadata": {},
   "outputs": [
    {
     "data": {
      "text/plain": [
       "array([[-2.00267505e-01,  1.97736876e-01, -2.56533377e-01,\n",
       "         2.16343019e-01, -2.40734690e-01,  2.01496127e-01,\n",
       "        -2.27450356e-01,  1.48727273e-01, -1.80289430e-01,\n",
       "         2.13204003e-01,  1.51031519e-01, -1.29461757e-01,\n",
       "         1.17000486e-01, -1.05894419e-01,  1.28114909e-01,\n",
       "         1.54926239e-01,  1.48414434e-01,  1.60554892e-01,\n",
       "         1.66485879e-01,  1.91649351e-01,  9.28330527e-02,\n",
       "        -1.82793320e-01,  8.52726366e-02, -1.11271454e-01,\n",
       "         1.31951597e-01, -5.07649315e-02,  1.87833142e-01,\n",
       "        -1.32198661e-01, -1.12005064e-01, -1.83998803e-01,\n",
       "        -1.00913836e-01,  4.68080483e-02, -6.66962193e-02,\n",
       "         1.40636206e-01, -1.00772596e-01,  8.71023215e-02,\n",
       "        -3.95182680e-02,  1.25151184e-01, -8.55661440e-02,\n",
       "        -8.92812153e-02, -7.11755888e-02,  9.52274359e-02,\n",
       "        -4.58262265e-02,  6.97163001e-02, -1.33601742e-01,\n",
       "         8.47799158e-02, -1.06773709e-01, -3.16552955e-02,\n",
       "        -1.11808149e-02, -1.19665917e-01],\n",
       "       [-9.88425878e-02,  9.55881332e-02, -5.42768321e-02,\n",
       "         2.30956264e-02, -1.21795336e-01,  7.34055878e-02,\n",
       "        -1.04788003e-01,  2.89532501e-02, -9.27309774e-02,\n",
       "         2.63933230e-03, -2.47931552e-01,  1.36036711e-01,\n",
       "        -2.51943286e-01,  1.10215829e-01, -1.88844634e-01,\n",
       "        -2.56710539e-01, -2.66864646e-01, -2.65090606e-01,\n",
       "        -2.12895938e-01, -2.15236083e-01,  9.16807364e-02,\n",
       "        -1.74677701e-01, -4.38902654e-02, -2.17905613e-01,\n",
       "         1.36474901e-01, -2.05025059e-01,  1.21921195e-01,\n",
       "        -1.65851752e-01, -2.31392235e-01, -1.17657390e-01,\n",
       "         4.94674497e-02, -1.41957966e-01, -5.09793640e-02,\n",
       "        -1.84399525e-01,  5.72069703e-02, -1.48380164e-01,\n",
       "        -1.65749004e-02, -1.06874592e-01,  2.53132776e-04,\n",
       "        -3.34316717e-02, -6.96736954e-02, -1.61027702e-02,\n",
       "        -1.61554347e-01,  3.06302841e-02, -8.26241738e-02,\n",
       "         5.71765498e-02, -3.47806352e-02, -8.97834159e-02,\n",
       "        -1.48037413e-01, -1.31074002e-01],\n",
       "       [ 1.75396994e-01, -2.02259417e-01,  8.61345150e-02,\n",
       "        -2.14758740e-01,  1.07130069e-01, -1.22288142e-01,\n",
       "         1.46874953e-01, -2.29510751e-01,  1.67719412e-01,\n",
       "        -1.98895183e-01, -5.26629433e-02,  1.37838047e-02,\n",
       "        -1.10627291e-01, -7.05359883e-03,  9.86156696e-03,\n",
       "         1.96852830e-04,  4.28000994e-02,  4.72158432e-02,\n",
       "         1.48239698e-02, -2.74068337e-02,  7.75173508e-02,\n",
       "        -1.94735581e-02,  1.46505251e-01, -1.44292018e-01,\n",
       "         4.10957114e-02, -1.24274796e-01, -4.35923032e-03,\n",
       "        -1.18876589e-01, -1.31825588e-01, -6.66388832e-02,\n",
       "        -2.56173795e-01,  1.86915649e-01, -2.43154092e-01,\n",
       "         1.80999446e-01, -2.25727974e-01,  2.01853809e-01,\n",
       "        -2.62816483e-01,  1.70862617e-01, -2.47210065e-01,\n",
       "        -2.34014133e-01, -9.65450577e-02,  5.40617457e-02,\n",
       "        -6.80881669e-02,  3.88036723e-02, -9.23871157e-02,\n",
       "         2.84321273e-02, -1.41436219e-01, -5.84822324e-02,\n",
       "        -1.70980012e-01, -7.47557490e-02]])"
      ]
     },
     "execution_count": 32,
     "metadata": {},
     "output_type": "execute_result"
    }
   ],
   "source": [
    "pc.components_"
   ]
  },
  {
   "cell_type": "code",
   "execution_count": 33,
   "id": "dfec1aa6",
   "metadata": {},
   "outputs": [
    {
     "data": {
      "text/plain": [
       "array([0.14391615, 0.10000038, 0.07940049])"
      ]
     },
     "execution_count": 33,
     "metadata": {},
     "output_type": "execute_result"
    }
   ],
   "source": [
    "pc.explained_variance_ratio_\n",
    "#see how much variance is explained by each of the three parameters\n",
    "#we find that together these explain only 30 percent of the variance so reduction of parameters is not going to be useful"
   ]
  },
  {
   "cell_type": "code",
   "execution_count": 34,
   "id": "dff9a676",
   "metadata": {},
   "outputs": [],
   "source": [
    "from sklearn.preprocessing import MinMaxScaler\n",
    "#now we will do K-means clustering as only unsupervised learning algorithms can be applied"
   ]
  },
  {
   "cell_type": "code",
   "execution_count": 35,
   "id": "d13bc281",
   "metadata": {},
   "outputs": [],
   "source": [
    "scaler = MinMaxScaler(feature_range=(0,1))"
   ]
  },
  {
   "cell_type": "code",
   "execution_count": 36,
   "id": "ce00a915",
   "metadata": {},
   "outputs": [],
   "source": [
    "df_array = scaler.fit_transform(df1)\n",
    "#scale the data between 0 and 1 to ease calculation"
   ]
  },
  {
   "cell_type": "code",
   "execution_count": 37,
   "id": "127e85a4",
   "metadata": {},
   "outputs": [
    {
     "data": {
      "text/html": [
       "<div>\n",
       "<style scoped>\n",
       "    .dataframe tbody tr th:only-of-type {\n",
       "        vertical-align: middle;\n",
       "    }\n",
       "\n",
       "    .dataframe tbody tr th {\n",
       "        vertical-align: top;\n",
       "    }\n",
       "\n",
       "    .dataframe thead th {\n",
       "        text-align: right;\n",
       "    }\n",
       "</style>\n",
       "<table border=\"1\" class=\"dataframe\">\n",
       "  <thead>\n",
       "    <tr style=\"text-align: right;\">\n",
       "      <th></th>\n",
       "      <th>EXT1</th>\n",
       "      <th>EXT2</th>\n",
       "      <th>EXT3</th>\n",
       "      <th>EXT4</th>\n",
       "      <th>EXT5</th>\n",
       "      <th>EXT6</th>\n",
       "      <th>EXT7</th>\n",
       "      <th>EXT8</th>\n",
       "      <th>EXT9</th>\n",
       "      <th>EXT10</th>\n",
       "      <th>...</th>\n",
       "      <th>OPN1</th>\n",
       "      <th>OPN2</th>\n",
       "      <th>OPN3</th>\n",
       "      <th>OPN4</th>\n",
       "      <th>OPN5</th>\n",
       "      <th>OPN6</th>\n",
       "      <th>OPN7</th>\n",
       "      <th>OPN8</th>\n",
       "      <th>OPN9</th>\n",
       "      <th>OPN10</th>\n",
       "    </tr>\n",
       "  </thead>\n",
       "  <tbody>\n",
       "    <tr>\n",
       "      <th>0</th>\n",
       "      <td>0.8</td>\n",
       "      <td>0.2</td>\n",
       "      <td>1.0</td>\n",
       "      <td>0.4</td>\n",
       "      <td>1.0</td>\n",
       "      <td>0.2</td>\n",
       "      <td>1.0</td>\n",
       "      <td>0.4</td>\n",
       "      <td>0.8</td>\n",
       "      <td>0.2</td>\n",
       "      <td>...</td>\n",
       "      <td>1.0</td>\n",
       "      <td>0.2</td>\n",
       "      <td>0.8</td>\n",
       "      <td>0.2</td>\n",
       "      <td>0.8</td>\n",
       "      <td>0.2</td>\n",
       "      <td>1.0</td>\n",
       "      <td>0.6</td>\n",
       "      <td>0.8</td>\n",
       "      <td>1.0</td>\n",
       "    </tr>\n",
       "    <tr>\n",
       "      <th>1</th>\n",
       "      <td>0.6</td>\n",
       "      <td>1.0</td>\n",
       "      <td>0.6</td>\n",
       "      <td>0.8</td>\n",
       "      <td>0.6</td>\n",
       "      <td>0.6</td>\n",
       "      <td>0.4</td>\n",
       "      <td>1.0</td>\n",
       "      <td>0.2</td>\n",
       "      <td>1.0</td>\n",
       "      <td>...</td>\n",
       "      <td>0.2</td>\n",
       "      <td>0.4</td>\n",
       "      <td>0.8</td>\n",
       "      <td>0.4</td>\n",
       "      <td>0.6</td>\n",
       "      <td>0.2</td>\n",
       "      <td>0.8</td>\n",
       "      <td>0.4</td>\n",
       "      <td>1.0</td>\n",
       "      <td>0.6</td>\n",
       "    </tr>\n",
       "    <tr>\n",
       "      <th>2</th>\n",
       "      <td>0.4</td>\n",
       "      <td>0.6</td>\n",
       "      <td>0.8</td>\n",
       "      <td>0.8</td>\n",
       "      <td>0.6</td>\n",
       "      <td>0.4</td>\n",
       "      <td>0.2</td>\n",
       "      <td>0.6</td>\n",
       "      <td>0.4</td>\n",
       "      <td>1.0</td>\n",
       "      <td>...</td>\n",
       "      <td>1.0</td>\n",
       "      <td>0.2</td>\n",
       "      <td>0.4</td>\n",
       "      <td>0.2</td>\n",
       "      <td>0.8</td>\n",
       "      <td>0.4</td>\n",
       "      <td>1.0</td>\n",
       "      <td>0.6</td>\n",
       "      <td>0.8</td>\n",
       "      <td>0.8</td>\n",
       "    </tr>\n",
       "    <tr>\n",
       "      <th>3</th>\n",
       "      <td>0.4</td>\n",
       "      <td>0.4</td>\n",
       "      <td>0.4</td>\n",
       "      <td>0.6</td>\n",
       "      <td>0.8</td>\n",
       "      <td>0.4</td>\n",
       "      <td>0.4</td>\n",
       "      <td>0.8</td>\n",
       "      <td>0.2</td>\n",
       "      <td>0.8</td>\n",
       "      <td>...</td>\n",
       "      <td>0.8</td>\n",
       "      <td>0.4</td>\n",
       "      <td>1.0</td>\n",
       "      <td>0.4</td>\n",
       "      <td>0.6</td>\n",
       "      <td>0.2</td>\n",
       "      <td>0.8</td>\n",
       "      <td>0.8</td>\n",
       "      <td>0.6</td>\n",
       "      <td>0.6</td>\n",
       "    </tr>\n",
       "    <tr>\n",
       "      <th>4</th>\n",
       "      <td>0.6</td>\n",
       "      <td>0.6</td>\n",
       "      <td>0.6</td>\n",
       "      <td>0.6</td>\n",
       "      <td>1.0</td>\n",
       "      <td>0.6</td>\n",
       "      <td>0.6</td>\n",
       "      <td>1.0</td>\n",
       "      <td>0.6</td>\n",
       "      <td>0.8</td>\n",
       "      <td>...</td>\n",
       "      <td>1.0</td>\n",
       "      <td>0.2</td>\n",
       "      <td>1.0</td>\n",
       "      <td>0.2</td>\n",
       "      <td>1.0</td>\n",
       "      <td>0.2</td>\n",
       "      <td>1.0</td>\n",
       "      <td>0.6</td>\n",
       "      <td>1.0</td>\n",
       "      <td>1.0</td>\n",
       "    </tr>\n",
       "  </tbody>\n",
       "</table>\n",
       "<p>5 rows × 50 columns</p>\n",
       "</div>"
      ],
      "text/plain": [
       "   EXT1  EXT2  EXT3  EXT4  EXT5  EXT6  EXT7  EXT8  EXT9  EXT10  ...  OPN1  \\\n",
       "0   0.8   0.2   1.0   0.4   1.0   0.2   1.0   0.4   0.8    0.2  ...   1.0   \n",
       "1   0.6   1.0   0.6   0.8   0.6   0.6   0.4   1.0   0.2    1.0  ...   0.2   \n",
       "2   0.4   0.6   0.8   0.8   0.6   0.4   0.2   0.6   0.4    1.0  ...   1.0   \n",
       "3   0.4   0.4   0.4   0.6   0.8   0.4   0.4   0.8   0.2    0.8  ...   0.8   \n",
       "4   0.6   0.6   0.6   0.6   1.0   0.6   0.6   1.0   0.6    0.8  ...   1.0   \n",
       "\n",
       "   OPN2  OPN3  OPN4  OPN5  OPN6  OPN7  OPN8  OPN9  OPN10  \n",
       "0   0.2   0.8   0.2   0.8   0.2   1.0   0.6   0.8    1.0  \n",
       "1   0.4   0.8   0.4   0.6   0.2   0.8   0.4   1.0    0.6  \n",
       "2   0.2   0.4   0.2   0.8   0.4   1.0   0.6   0.8    0.8  \n",
       "3   0.4   1.0   0.4   0.6   0.2   0.8   0.8   0.6    0.6  \n",
       "4   0.2   1.0   0.2   1.0   0.2   1.0   0.6   1.0    1.0  \n",
       "\n",
       "[5 rows x 50 columns]"
      ]
     },
     "execution_count": 37,
     "metadata": {},
     "output_type": "execute_result"
    }
   ],
   "source": [
    "df2 = pd.DataFrame(df_array, columns=list(df1.columns))\n",
    "df2.head()"
   ]
  },
  {
   "cell_type": "code",
   "execution_count": 38,
   "id": "180f147c",
   "metadata": {},
   "outputs": [],
   "source": [
    "from sklearn.cluster import KMeans\n"
   ]
  },
  {
   "cell_type": "code",
   "execution_count": 39,
   "id": "b8942c72",
   "metadata": {},
   "outputs": [],
   "source": [
    "inertias = []\n",
    "for i in range(1,5):\n",
    "    kmeans = KMeans(n_clusters=i)\n",
    "    kmeans.fit(df1[:5000])\n",
    "    inertias.append(kmeans.inertia_)\n"
   ]
  },
  {
   "cell_type": "code",
   "execution_count": 40,
   "id": "ce23f5c6",
   "metadata": {},
   "outputs": [],
   "source": [
    "for i in range(5,10):\n",
    "    kmeans = KMeans(n_clusters=i)\n",
    "    kmeans.fit(df1[:5000])\n",
    "    inertias.append(kmeans.inertia_)"
   ]
  },
  {
   "cell_type": "code",
   "execution_count": 41,
   "id": "c13bc4cb",
   "metadata": {},
   "outputs": [
    {
     "data": {
      "image/png": "[encoded data removed]",
      "text/plain": [
       "<Figure size 432x288 with 1 Axes>"
      ]
     },
     "metadata": {
      "needs_background": "light"
     },
     "output_type": "display_data"
    }
   ],
   "source": [
    "x = range(1,10)\n",
    "plt.plot(x,inertias,marker='o')\n",
    "plt.xlabel('clusters')\n",
    "plt.ylabel('inertias')\n",
    "plt.show()\n",
    "#trying to visualise how many clusters will be optimal\n",
    "#plot inertias v/s number of clusters\n",
    "#optimal cluster number is that beyond which the graph is almost linear\n",
    "#taking a small sample of data to minimise calculation\n",
    "#4-6 clusters will be optimal\n",
    "#we try 5 clusters as 5 different personality aspects are there"
   ]
  },
  {
   "cell_type": "code",
   "execution_count": 42,
   "id": "755a9faf",
   "metadata": {},
   "outputs": [],
   "source": [
    "kmeans = KMeans(n_clusters = 5)\n",
    "fit = kmeans.fit(df1)\n",
    "#create cluster model"
   ]
  },
  {
   "cell_type": "code",
   "execution_count": 43,
   "id": "0e6b2cfd",
   "metadata": {},
   "outputs": [
    {
     "data": {
      "text/html": [
       "<div>\n",
       "<style scoped>\n",
       "    .dataframe tbody tr th:only-of-type {\n",
       "        vertical-align: middle;\n",
       "    }\n",
       "\n",
       "    .dataframe tbody tr th {\n",
       "        vertical-align: top;\n",
       "    }\n",
       "\n",
       "    .dataframe thead th {\n",
       "        text-align: right;\n",
       "    }\n",
       "</style>\n",
       "<table border=\"1\" class=\"dataframe\">\n",
       "  <thead>\n",
       "    <tr style=\"text-align: right;\">\n",
       "      <th></th>\n",
       "      <th>EXT1</th>\n",
       "      <th>EXT2</th>\n",
       "      <th>EXT3</th>\n",
       "      <th>EXT4</th>\n",
       "      <th>EXT5</th>\n",
       "      <th>EXT6</th>\n",
       "      <th>EXT7</th>\n",
       "      <th>EXT8</th>\n",
       "      <th>EXT9</th>\n",
       "      <th>EXT10</th>\n",
       "      <th>...</th>\n",
       "      <th>OPN2</th>\n",
       "      <th>OPN3</th>\n",
       "      <th>OPN4</th>\n",
       "      <th>OPN5</th>\n",
       "      <th>OPN6</th>\n",
       "      <th>OPN7</th>\n",
       "      <th>OPN8</th>\n",
       "      <th>OPN9</th>\n",
       "      <th>OPN10</th>\n",
       "      <th>clusters</th>\n",
       "    </tr>\n",
       "  </thead>\n",
       "  <tbody>\n",
       "    <tr>\n",
       "      <th>0</th>\n",
       "      <td>4.0</td>\n",
       "      <td>1.0</td>\n",
       "      <td>5.0</td>\n",
       "      <td>2.0</td>\n",
       "      <td>5.0</td>\n",
       "      <td>1.0</td>\n",
       "      <td>5.0</td>\n",
       "      <td>2.0</td>\n",
       "      <td>4.0</td>\n",
       "      <td>1.0</td>\n",
       "      <td>...</td>\n",
       "      <td>1.0</td>\n",
       "      <td>4.0</td>\n",
       "      <td>1.0</td>\n",
       "      <td>4.0</td>\n",
       "      <td>1.0</td>\n",
       "      <td>5.0</td>\n",
       "      <td>3.0</td>\n",
       "      <td>4.0</td>\n",
       "      <td>5.0</td>\n",
       "      <td>0</td>\n",
       "    </tr>\n",
       "    <tr>\n",
       "      <th>1</th>\n",
       "      <td>3.0</td>\n",
       "      <td>5.0</td>\n",
       "      <td>3.0</td>\n",
       "      <td>4.0</td>\n",
       "      <td>3.0</td>\n",
       "      <td>3.0</td>\n",
       "      <td>2.0</td>\n",
       "      <td>5.0</td>\n",
       "      <td>1.0</td>\n",
       "      <td>5.0</td>\n",
       "      <td>...</td>\n",
       "      <td>2.0</td>\n",
       "      <td>4.0</td>\n",
       "      <td>2.0</td>\n",
       "      <td>3.0</td>\n",
       "      <td>1.0</td>\n",
       "      <td>4.0</td>\n",
       "      <td>2.0</td>\n",
       "      <td>5.0</td>\n",
       "      <td>3.0</td>\n",
       "      <td>2</td>\n",
       "    </tr>\n",
       "    <tr>\n",
       "      <th>2</th>\n",
       "      <td>2.0</td>\n",
       "      <td>3.0</td>\n",
       "      <td>4.0</td>\n",
       "      <td>4.0</td>\n",
       "      <td>3.0</td>\n",
       "      <td>2.0</td>\n",
       "      <td>1.0</td>\n",
       "      <td>3.0</td>\n",
       "      <td>2.0</td>\n",
       "      <td>5.0</td>\n",
       "      <td>...</td>\n",
       "      <td>1.0</td>\n",
       "      <td>2.0</td>\n",
       "      <td>1.0</td>\n",
       "      <td>4.0</td>\n",
       "      <td>2.0</td>\n",
       "      <td>5.0</td>\n",
       "      <td>3.0</td>\n",
       "      <td>4.0</td>\n",
       "      <td>4.0</td>\n",
       "      <td>2</td>\n",
       "    </tr>\n",
       "    <tr>\n",
       "      <th>3</th>\n",
       "      <td>2.0</td>\n",
       "      <td>2.0</td>\n",
       "      <td>2.0</td>\n",
       "      <td>3.0</td>\n",
       "      <td>4.0</td>\n",
       "      <td>2.0</td>\n",
       "      <td>2.0</td>\n",
       "      <td>4.0</td>\n",
       "      <td>1.0</td>\n",
       "      <td>4.0</td>\n",
       "      <td>...</td>\n",
       "      <td>2.0</td>\n",
       "      <td>5.0</td>\n",
       "      <td>2.0</td>\n",
       "      <td>3.0</td>\n",
       "      <td>1.0</td>\n",
       "      <td>4.0</td>\n",
       "      <td>4.0</td>\n",
       "      <td>3.0</td>\n",
       "      <td>3.0</td>\n",
       "      <td>3</td>\n",
       "    </tr>\n",
       "    <tr>\n",
       "      <th>4</th>\n",
       "      <td>3.0</td>\n",
       "      <td>3.0</td>\n",
       "      <td>3.0</td>\n",
       "      <td>3.0</td>\n",
       "      <td>5.0</td>\n",
       "      <td>3.0</td>\n",
       "      <td>3.0</td>\n",
       "      <td>5.0</td>\n",
       "      <td>3.0</td>\n",
       "      <td>4.0</td>\n",
       "      <td>...</td>\n",
       "      <td>1.0</td>\n",
       "      <td>5.0</td>\n",
       "      <td>1.0</td>\n",
       "      <td>5.0</td>\n",
       "      <td>1.0</td>\n",
       "      <td>5.0</td>\n",
       "      <td>3.0</td>\n",
       "      <td>5.0</td>\n",
       "      <td>5.0</td>\n",
       "      <td>0</td>\n",
       "    </tr>\n",
       "  </tbody>\n",
       "</table>\n",
       "<p>5 rows × 51 columns</p>\n",
       "</div>"
      ],
      "text/plain": [
       "   EXT1  EXT2  EXT3  EXT4  EXT5  EXT6  EXT7  EXT8  EXT9  EXT10  ...  OPN2  \\\n",
       "0   4.0   1.0   5.0   2.0   5.0   1.0   5.0   2.0   4.0    1.0  ...   1.0   \n",
       "1   3.0   5.0   3.0   4.0   3.0   3.0   2.0   5.0   1.0    5.0  ...   2.0   \n",
       "2   2.0   3.0   4.0   4.0   3.0   2.0   1.0   3.0   2.0    5.0  ...   1.0   \n",
       "3   2.0   2.0   2.0   3.0   4.0   2.0   2.0   4.0   1.0    4.0  ...   2.0   \n",
       "4   3.0   3.0   3.0   3.0   5.0   3.0   3.0   5.0   3.0    4.0  ...   1.0   \n",
       "\n",
       "   OPN3  OPN4  OPN5  OPN6  OPN7  OPN8  OPN9  OPN10  clusters  \n",
       "0   4.0   1.0   4.0   1.0   5.0   3.0   4.0    5.0         0  \n",
       "1   4.0   2.0   3.0   1.0   4.0   2.0   5.0    3.0         2  \n",
       "2   2.0   1.0   4.0   2.0   5.0   3.0   4.0    4.0         2  \n",
       "3   5.0   2.0   3.0   1.0   4.0   4.0   3.0    3.0         3  \n",
       "4   5.0   1.0   5.0   1.0   5.0   3.0   5.0    5.0         0  \n",
       "\n",
       "[5 rows x 51 columns]"
      ]
     },
     "execution_count": 43,
     "metadata": {},
     "output_type": "execute_result"
    }
   ],
   "source": [
    "clusters = fit.labels_\n",
    "df1['clusters'] = clusters\n",
    "#cluster the data points\n",
    "df1.head()"
   ]
  },
  {
   "cell_type": "code",
   "execution_count": 44,
   "id": "72d05805",
   "metadata": {},
   "outputs": [
    {
     "data": {
      "text/html": [
       "<div>\n",
       "<style scoped>\n",
       "    .dataframe tbody tr th:only-of-type {\n",
       "        vertical-align: middle;\n",
       "    }\n",
       "\n",
       "    .dataframe tbody tr th {\n",
       "        vertical-align: top;\n",
       "    }\n",
       "\n",
       "    .dataframe thead th {\n",
       "        text-align: right;\n",
       "    }\n",
       "</style>\n",
       "<table border=\"1\" class=\"dataframe\">\n",
       "  <thead>\n",
       "    <tr style=\"text-align: right;\">\n",
       "      <th></th>\n",
       "      <th>extrov</th>\n",
       "      <th>neuro</th>\n",
       "      <th>agree</th>\n",
       "      <th>consci</th>\n",
       "      <th>openness</th>\n",
       "    </tr>\n",
       "    <tr>\n",
       "      <th>clusters</th>\n",
       "      <th></th>\n",
       "      <th></th>\n",
       "      <th></th>\n",
       "      <th></th>\n",
       "      <th></th>\n",
       "    </tr>\n",
       "  </thead>\n",
       "  <tbody>\n",
       "    <tr>\n",
       "      <th>0</th>\n",
       "      <td>3.085261</td>\n",
       "      <td>2.423497</td>\n",
       "      <td>3.209021</td>\n",
       "      <td>3.106755</td>\n",
       "      <td>3.327536</td>\n",
       "    </tr>\n",
       "    <tr>\n",
       "      <th>1</th>\n",
       "      <td>2.966114</td>\n",
       "      <td>3.646124</td>\n",
       "      <td>3.149144</td>\n",
       "      <td>3.173567</td>\n",
       "      <td>3.245774</td>\n",
       "    </tr>\n",
       "    <tr>\n",
       "      <th>2</th>\n",
       "      <td>3.052565</td>\n",
       "      <td>2.977843</td>\n",
       "      <td>3.187156</td>\n",
       "      <td>3.158003</td>\n",
       "      <td>3.242835</td>\n",
       "    </tr>\n",
       "    <tr>\n",
       "      <th>3</th>\n",
       "      <td>2.908714</td>\n",
       "      <td>2.527603</td>\n",
       "      <td>2.850810</td>\n",
       "      <td>2.914522</td>\n",
       "      <td>3.120596</td>\n",
       "    </tr>\n",
       "    <tr>\n",
       "      <th>4</th>\n",
       "      <td>3.072262</td>\n",
       "      <td>3.427602</td>\n",
       "      <td>3.300203</td>\n",
       "      <td>3.211613</td>\n",
       "      <td>3.352277</td>\n",
       "    </tr>\n",
       "  </tbody>\n",
       "</table>\n",
       "</div>"
      ],
      "text/plain": [
       "            extrov     neuro     agree    consci  openness\n",
       "clusters                                                  \n",
       "0         3.085261  2.423497  3.209021  3.106755  3.327536\n",
       "1         2.966114  3.646124  3.149144  3.173567  3.245774\n",
       "2         3.052565  2.977843  3.187156  3.158003  3.242835\n",
       "3         2.908714  2.527603  2.850810  2.914522  3.120596\n",
       "4         3.072262  3.427602  3.300203  3.211613  3.352277"
      ]
     },
     "execution_count": 44,
     "metadata": {},
     "output_type": "execute_result"
    }
   ],
   "source": [
    "df_clustered = pd.DataFrame()\n",
    "df_clustered['extrov'] = df.iloc[:,0:10].sum(axis=1)/10\n",
    "df_clustered['neuro'] = df.iloc[:,10:20].sum(axis=1)/10\n",
    "df_clustered['agree'] = df.iloc[:,20:30].sum(axis=1)/10\n",
    "df_clustered['consci'] = df.iloc[:,30:40].sum(axis=1)/10\n",
    "df_clustered['openness'] = df.iloc[:,40:50].sum(axis=1)/10\n",
    "df_clustered['clusters'] = clusters\n",
    "df_clustered.groupby('clusters').mean()"
   ]
  },
  {
   "cell_type": "code",
   "execution_count": 45,
   "id": "4ff603c1",
   "metadata": {},
   "outputs": [
    {
     "data": {
      "image/png": "[encoded data removed]",
      "text/plain": [
       "<Figure size 1584x216 with 5 Axes>"
      ]
     },
     "metadata": {
      "needs_background": "light"
     },
     "output_type": "display_data"
    }
   ],
   "source": [
    "#visualise the mean values of each cluster \n",
    "dataclusters = df_clustered.groupby('clusters').mean()\n",
    "plt.figure(figsize=(22,3))\n",
    "for i in range(0, 5):\n",
    "    plt.subplot(1,5,i+1)\n",
    "    plt.bar(dataclusters.columns, dataclusters.iloc[:, i])\n",
    "    plt.title('cluster'+str(i))\n",
    "    plt.ylim(0,4);"
   ]
  },
  {
   "cell_type": "code",
   "execution_count": 46,
   "id": "779801d8",
   "metadata": {},
   "outputs": [],
   "source": [
    "extrov = df1.iloc[:,0:10]\n",
    "neuro = df1.iloc[:,10:20]\n",
    "agree = df1.iloc[:,20:30]\n",
    "consci = df1.iloc[:,30:40]\n",
    "openness = df1.iloc[:,40:50]"
   ]
  },
  {
   "cell_type": "code",
   "execution_count": 47,
   "id": "51139455",
   "metadata": {},
   "outputs": [],
   "source": [
    "inertias_extrov = []\n",
    "x = range(1,11)\n",
    "for i in range(1,11):\n",
    "    kmeans = KMeans(n_clusters=i)\n",
    "    kmeans.fit(extrov[:5000])\n",
    "    inertias_extrov.append(kmeans.inertia_)"
   ]
  },
  {
   "cell_type": "code",
   "execution_count": 48,
   "id": "02eacfc1",
   "metadata": {},
   "outputs": [
    {
     "data": {
      "image/png": "[encoded data removed]",
      "text/plain": [
       "<Figure size 432x288 with 1 Axes>"
      ]
     },
     "metadata": {
      "needs_background": "light"
     },
     "output_type": "display_data"
    }
   ],
   "source": [
    "plt.plot(x,inertias_extrov,marker='o')\n",
    "plt.xlabel('extrov clusters')\n",
    "plt.ylabel('inertias')\n",
    "plt.show()"
   ]
  },
  {
   "cell_type": "code",
   "execution_count": 49,
   "id": "016670a3",
   "metadata": {},
   "outputs": [],
   "source": [
    "#number of clusters = 3 by looking at graph\n",
    "#after 3 the graph decreases linearly"
   ]
  },
  {
   "cell_type": "code",
   "execution_count": 50,
   "id": "80f3fc14",
   "metadata": {},
   "outputs": [],
   "source": [
    "kmeans = KMeans(n_clusters=3)\n",
    "fit_extrov = kmeans.fit(extrov)\n",
    "clusters = fit_extrov.labels_\n",
    "extrov['clusters'] = clusters"
   ]
  },
  {
   "cell_type": "code",
   "execution_count": 51,
   "id": "d6ff457a",
   "metadata": {},
   "outputs": [
    {
     "data": {
      "text/html": [
       "<div>\n",
       "<style scoped>\n",
       "    .dataframe tbody tr th:only-of-type {\n",
       "        vertical-align: middle;\n",
       "    }\n",
       "\n",
       "    .dataframe tbody tr th {\n",
       "        vertical-align: top;\n",
       "    }\n",
       "\n",
       "    .dataframe thead th {\n",
       "        text-align: right;\n",
       "    }\n",
       "</style>\n",
       "<table border=\"1\" class=\"dataframe\">\n",
       "  <thead>\n",
       "    <tr style=\"text-align: right;\">\n",
       "      <th></th>\n",
       "      <th>EXT1</th>\n",
       "      <th>EXT2</th>\n",
       "      <th>EXT3</th>\n",
       "      <th>EXT4</th>\n",
       "      <th>EXT5</th>\n",
       "      <th>EXT6</th>\n",
       "      <th>EXT7</th>\n",
       "      <th>EXT8</th>\n",
       "      <th>EXT9</th>\n",
       "      <th>EXT10</th>\n",
       "    </tr>\n",
       "    <tr>\n",
       "      <th>clusters</th>\n",
       "      <th></th>\n",
       "      <th></th>\n",
       "      <th></th>\n",
       "      <th></th>\n",
       "      <th></th>\n",
       "      <th></th>\n",
       "      <th></th>\n",
       "      <th></th>\n",
       "      <th></th>\n",
       "      <th></th>\n",
       "    </tr>\n",
       "  </thead>\n",
       "  <tbody>\n",
       "    <tr>\n",
       "      <th>0</th>\n",
       "      <td>2.652442</td>\n",
       "      <td>2.711403</td>\n",
       "      <td>3.317294</td>\n",
       "      <td>3.132214</td>\n",
       "      <td>3.348942</td>\n",
       "      <td>2.312446</td>\n",
       "      <td>2.713224</td>\n",
       "      <td>3.380805</td>\n",
       "      <td>3.001928</td>\n",
       "      <td>3.661966</td>\n",
       "    </tr>\n",
       "    <tr>\n",
       "      <th>1</th>\n",
       "      <td>1.578498</td>\n",
       "      <td>3.953964</td>\n",
       "      <td>2.293382</td>\n",
       "      <td>4.231702</td>\n",
       "      <td>2.107691</td>\n",
       "      <td>3.323856</td>\n",
       "      <td>1.542849</td>\n",
       "      <td>4.333783</td>\n",
       "      <td>1.901275</td>\n",
       "      <td>4.587941</td>\n",
       "    </tr>\n",
       "    <tr>\n",
       "      <th>2</th>\n",
       "      <td>3.773516</td>\n",
       "      <td>1.612912</td>\n",
       "      <td>4.299289</td>\n",
       "      <td>1.998153</td>\n",
       "      <td>4.410044</td>\n",
       "      <td>1.553001</td>\n",
       "      <td>4.156830</td>\n",
       "      <td>2.491635</td>\n",
       "      <td>4.032724</td>\n",
       "      <td>2.312287</td>\n",
       "    </tr>\n",
       "  </tbody>\n",
       "</table>\n",
       "</div>"
      ],
      "text/plain": [
       "              EXT1      EXT2      EXT3      EXT4      EXT5      EXT6  \\\n",
       "clusters                                                               \n",
       "0         2.652442  2.711403  3.317294  3.132214  3.348942  2.312446   \n",
       "1         1.578498  3.953964  2.293382  4.231702  2.107691  3.323856   \n",
       "2         3.773516  1.612912  4.299289  1.998153  4.410044  1.553001   \n",
       "\n",
       "              EXT7      EXT8      EXT9     EXT10  \n",
       "clusters                                          \n",
       "0         2.713224  3.380805  3.001928  3.661966  \n",
       "1         1.542849  4.333783  1.901275  4.587941  \n",
       "2         4.156830  2.491635  4.032724  2.312287  "
      ]
     },
     "execution_count": 51,
     "metadata": {},
     "output_type": "execute_result"
    }
   ],
   "source": [
    "extrov.groupby('clusters').mean()"
   ]
  },
  {
   "cell_type": "code",
   "execution_count": 52,
   "id": "9b53c935",
   "metadata": {},
   "outputs": [],
   "source": [
    "inertias_neuro = []\n",
    "x = range(1,11)\n",
    "for i in range(1,11):\n",
    "    kmeans = KMeans(n_clusters=i)\n",
    "    kmeans.fit(neuro[:5000])\n",
    "    inertias_neuro.append(kmeans.inertia_)"
   ]
  },
  {
   "cell_type": "code",
   "execution_count": 54,
   "id": "101b7f52",
   "metadata": {
    "scrolled": true
   },
   "outputs": [
    {
     "data": {
      "image/png": "[encoded data removed]",
      "text/plain": [
       "<Figure size 432x288 with 1 Axes>"
      ]
     },
     "metadata": {
      "needs_background": "light"
     },
     "output_type": "display_data"
    }
   ],
   "source": [
    "plt.plot(x,inertias_neuro,marker='o')\n",
    "plt.xlabel('neuro clusters')\n",
    "plt.ylabel('inertias')\n",
    "plt.show()"
   ]
  },
  {
   "cell_type": "code",
   "execution_count": 52,
   "id": "4c86e9b8",
   "metadata": {},
   "outputs": [],
   "source": [
    "# number of clusters = 3"
   ]
  },
  {
   "cell_type": "code",
   "execution_count": 55,
   "id": "2ffe5cdd",
   "metadata": {},
   "outputs": [],
   "source": [
    "kmeans = KMeans(n_clusters=3)\n",
    "fit_neuro = kmeans.fit(neuro)\n",
    "clusters = fit_neuro.labels_\n",
    "neuro['clusters'] = clusters"
   ]
  },
  {
   "cell_type": "code",
   "execution_count": 56,
   "id": "7418c9d3",
   "metadata": {},
   "outputs": [
    {
     "data": {
      "text/html": [
       "<div>\n",
       "<style scoped>\n",
       "    .dataframe tbody tr th:only-of-type {\n",
       "        vertical-align: middle;\n",
       "    }\n",
       "\n",
       "    .dataframe tbody tr th {\n",
       "        vertical-align: top;\n",
       "    }\n",
       "\n",
       "    .dataframe thead th {\n",
       "        text-align: right;\n",
       "    }\n",
       "</style>\n",
       "<table border=\"1\" class=\"dataframe\">\n",
       "  <thead>\n",
       "    <tr style=\"text-align: right;\">\n",
       "      <th></th>\n",
       "      <th>EST1</th>\n",
       "      <th>EST2</th>\n",
       "      <th>EST3</th>\n",
       "      <th>EST4</th>\n",
       "      <th>EST5</th>\n",
       "      <th>EST6</th>\n",
       "      <th>EST7</th>\n",
       "      <th>EST8</th>\n",
       "      <th>EST9</th>\n",
       "      <th>EST10</th>\n",
       "    </tr>\n",
       "    <tr>\n",
       "      <th>clusters</th>\n",
       "      <th></th>\n",
       "      <th></th>\n",
       "      <th></th>\n",
       "      <th></th>\n",
       "      <th></th>\n",
       "      <th></th>\n",
       "      <th></th>\n",
       "      <th></th>\n",
       "      <th></th>\n",
       "      <th></th>\n",
       "    </tr>\n",
       "  </thead>\n",
       "  <tbody>\n",
       "    <tr>\n",
       "      <th>0</th>\n",
       "      <td>3.373145</td>\n",
       "      <td>3.191016</td>\n",
       "      <td>3.998294</td>\n",
       "      <td>2.598251</td>\n",
       "      <td>2.810392</td>\n",
       "      <td>2.737563</td>\n",
       "      <td>2.965687</td>\n",
       "      <td>2.486571</td>\n",
       "      <td>3.062879</td>\n",
       "      <td>2.696837</td>\n",
       "    </tr>\n",
       "    <tr>\n",
       "      <th>1</th>\n",
       "      <td>4.360741</td>\n",
       "      <td>2.382258</td>\n",
       "      <td>4.568572</td>\n",
       "      <td>2.144366</td>\n",
       "      <td>3.668886</td>\n",
       "      <td>4.064165</td>\n",
       "      <td>4.227913</td>\n",
       "      <td>4.031543</td>\n",
       "      <td>4.164279</td>\n",
       "      <td>3.852432</td>\n",
       "    </tr>\n",
       "    <tr>\n",
       "      <th>2</th>\n",
       "      <td>1.936352</td>\n",
       "      <td>4.012053</td>\n",
       "      <td>2.797875</td>\n",
       "      <td>3.351516</td>\n",
       "      <td>1.957696</td>\n",
       "      <td>1.613789</td>\n",
       "      <td>1.845826</td>\n",
       "      <td>1.456448</td>\n",
       "      <td>1.909323</td>\n",
       "      <td>1.668351</td>\n",
       "    </tr>\n",
       "  </tbody>\n",
       "</table>\n",
       "</div>"
      ],
      "text/plain": [
       "              EST1      EST2      EST3      EST4      EST5      EST6  \\\n",
       "clusters                                                               \n",
       "0         3.373145  3.191016  3.998294  2.598251  2.810392  2.737563   \n",
       "1         4.360741  2.382258  4.568572  2.144366  3.668886  4.064165   \n",
       "2         1.936352  4.012053  2.797875  3.351516  1.957696  1.613789   \n",
       "\n",
       "              EST7      EST8      EST9     EST10  \n",
       "clusters                                          \n",
       "0         2.965687  2.486571  3.062879  2.696837  \n",
       "1         4.227913  4.031543  4.164279  3.852432  \n",
       "2         1.845826  1.456448  1.909323  1.668351  "
      ]
     },
     "execution_count": 56,
     "metadata": {},
     "output_type": "execute_result"
    }
   ],
   "source": [
    "neuro.groupby('clusters').mean()"
   ]
  },
  {
   "cell_type": "code",
   "execution_count": 57,
   "id": "3e763833",
   "metadata": {},
   "outputs": [],
   "source": [
    "inertias_agree = []\n",
    "x = range(1,11)\n",
    "for i in range(1,11):\n",
    "    kmeans = KMeans(n_clusters=i)\n",
    "    kmeans.fit(agree[:5000])\n",
    "    inertias_agree.append(kmeans.inertia_)"
   ]
  },
  {
   "cell_type": "code",
   "execution_count": 58,
   "id": "ea643c6d",
   "metadata": {},
   "outputs": [
    {
     "data": {
      "image/png": "[encoded data removed]",
      "text/plain": [
       "<Figure size 432x288 with 1 Axes>"
      ]
     },
     "metadata": {
      "needs_background": "light"
     },
     "output_type": "display_data"
    }
   ],
   "source": [
    "plt.plot(x,inertias_agree,marker='o')\n",
    "plt.xlabel('agree clusters')\n",
    "plt.ylabel('inertias')\n",
    "plt.show()"
   ]
  },
  {
   "cell_type": "code",
   "execution_count": 57,
   "id": "6b6326d2",
   "metadata": {},
   "outputs": [],
   "source": [
    "#number of clusters = 5"
   ]
  },
  {
   "cell_type": "code",
   "execution_count": 59,
   "id": "49953842",
   "metadata": {},
   "outputs": [],
   "source": [
    "kmeans = KMeans(n_clusters=5)\n",
    "fit_agree = kmeans.fit(agree)\n",
    "clusters = fit_agree.labels_\n",
    "agree['clusters'] = clusters"
   ]
  },
  {
   "cell_type": "code",
   "execution_count": 60,
   "id": "827da359",
   "metadata": {},
   "outputs": [
    {
     "data": {
      "text/html": [
       "<div>\n",
       "<style scoped>\n",
       "    .dataframe tbody tr th:only-of-type {\n",
       "        vertical-align: middle;\n",
       "    }\n",
       "\n",
       "    .dataframe tbody tr th {\n",
       "        vertical-align: top;\n",
       "    }\n",
       "\n",
       "    .dataframe thead th {\n",
       "        text-align: right;\n",
       "    }\n",
       "</style>\n",
       "<table border=\"1\" class=\"dataframe\">\n",
       "  <thead>\n",
       "    <tr style=\"text-align: right;\">\n",
       "      <th></th>\n",
       "      <th>AGR1</th>\n",
       "      <th>AGR2</th>\n",
       "      <th>AGR3</th>\n",
       "      <th>AGR4</th>\n",
       "      <th>AGR5</th>\n",
       "      <th>AGR6</th>\n",
       "      <th>AGR7</th>\n",
       "      <th>AGR8</th>\n",
       "      <th>AGR9</th>\n",
       "      <th>AGR10</th>\n",
       "    </tr>\n",
       "    <tr>\n",
       "      <th>clusters</th>\n",
       "      <th></th>\n",
       "      <th></th>\n",
       "      <th></th>\n",
       "      <th></th>\n",
       "      <th></th>\n",
       "      <th></th>\n",
       "      <th></th>\n",
       "      <th></th>\n",
       "      <th></th>\n",
       "      <th></th>\n",
       "    </tr>\n",
       "  </thead>\n",
       "  <tbody>\n",
       "    <tr>\n",
       "      <th>0</th>\n",
       "      <td>1.923805</td>\n",
       "      <td>4.069654</td>\n",
       "      <td>3.808868</td>\n",
       "      <td>4.011597</td>\n",
       "      <td>2.159679</td>\n",
       "      <td>3.652566</td>\n",
       "      <td>2.068951</td>\n",
       "      <td>3.780908</td>\n",
       "      <td>3.903575</td>\n",
       "      <td>3.476999</td>\n",
       "    </tr>\n",
       "    <tr>\n",
       "      <th>1</th>\n",
       "      <td>3.415499</td>\n",
       "      <td>2.693574</td>\n",
       "      <td>3.143586</td>\n",
       "      <td>2.295817</td>\n",
       "      <td>3.556794</td>\n",
       "      <td>2.367444</td>\n",
       "      <td>3.364993</td>\n",
       "      <td>2.584109</td>\n",
       "      <td>2.233377</td>\n",
       "      <td>2.785227</td>\n",
       "    </tr>\n",
       "    <tr>\n",
       "      <th>2</th>\n",
       "      <td>4.403356</td>\n",
       "      <td>4.078024</td>\n",
       "      <td>1.954207</td>\n",
       "      <td>4.293665</td>\n",
       "      <td>2.124221</td>\n",
       "      <td>4.210782</td>\n",
       "      <td>2.047291</td>\n",
       "      <td>3.939931</td>\n",
       "      <td>4.260777</td>\n",
       "      <td>3.889223</td>\n",
       "    </tr>\n",
       "    <tr>\n",
       "      <th>3</th>\n",
       "      <td>1.169432</td>\n",
       "      <td>4.538177</td>\n",
       "      <td>1.517751</td>\n",
       "      <td>4.709815</td>\n",
       "      <td>1.468473</td>\n",
       "      <td>4.440461</td>\n",
       "      <td>1.429192</td>\n",
       "      <td>4.346087</td>\n",
       "      <td>4.553022</td>\n",
       "      <td>4.164094</td>\n",
       "    </tr>\n",
       "    <tr>\n",
       "      <th>4</th>\n",
       "      <td>1.946997</td>\n",
       "      <td>3.394721</td>\n",
       "      <td>1.575674</td>\n",
       "      <td>3.804225</td>\n",
       "      <td>2.573302</td>\n",
       "      <td>3.626984</td>\n",
       "      <td>2.548494</td>\n",
       "      <td>3.408661</td>\n",
       "      <td>3.554237</td>\n",
       "      <td>3.343325</td>\n",
       "    </tr>\n",
       "  </tbody>\n",
       "</table>\n",
       "</div>"
      ],
      "text/plain": [
       "              AGR1      AGR2      AGR3      AGR4      AGR5      AGR6  \\\n",
       "clusters                                                               \n",
       "0         1.923805  4.069654  3.808868  4.011597  2.159679  3.652566   \n",
       "1         3.415499  2.693574  3.143586  2.295817  3.556794  2.367444   \n",
       "2         4.403356  4.078024  1.954207  4.293665  2.124221  4.210782   \n",
       "3         1.169432  4.538177  1.517751  4.709815  1.468473  4.440461   \n",
       "4         1.946997  3.394721  1.575674  3.804225  2.573302  3.626984   \n",
       "\n",
       "              AGR7      AGR8      AGR9     AGR10  \n",
       "clusters                                          \n",
       "0         2.068951  3.780908  3.903575  3.476999  \n",
       "1         3.364993  2.584109  2.233377  2.785227  \n",
       "2         2.047291  3.939931  4.260777  3.889223  \n",
       "3         1.429192  4.346087  4.553022  4.164094  \n",
       "4         2.548494  3.408661  3.554237  3.343325  "
      ]
     },
     "execution_count": 60,
     "metadata": {},
     "output_type": "execute_result"
    }
   ],
   "source": [
    "agree.groupby('clusters').mean()"
   ]
  },
  {
   "cell_type": "code",
   "execution_count": 61,
   "id": "611e0391",
   "metadata": {},
   "outputs": [],
   "source": [
    "inertias_consci = []\n",
    "x = range(1,11)\n",
    "for i in range(1,11):\n",
    "    kmeans = KMeans(n_clusters=i)\n",
    "    kmeans.fit(consci[:5000])\n",
    "    inertias_consci.append(kmeans.inertia_)"
   ]
  },
  {
   "cell_type": "code",
   "execution_count": 62,
   "id": "ea50a2f8",
   "metadata": {},
   "outputs": [
    {
     "data": {
      "image/png": "[encoded data removed]",
      "text/plain": [
       "<Figure size 432x288 with 1 Axes>"
      ]
     },
     "metadata": {
      "needs_background": "light"
     },
     "output_type": "display_data"
    }
   ],
   "source": [
    "plt.plot(x,inertias_consci,marker='o')\n",
    "plt.xlabel('consci clusters')\n",
    "plt.ylabel('inertias')\n",
    "plt.show()"
   ]
  },
  {
   "cell_type": "code",
   "execution_count": 62,
   "id": "7e7c8bdf",
   "metadata": {},
   "outputs": [],
   "source": [
    "#number of clusters = 4"
   ]
  },
  {
   "cell_type": "code",
   "execution_count": 63,
   "id": "1f9fb9a0",
   "metadata": {},
   "outputs": [],
   "source": [
    "kmeans = KMeans(n_clusters=4)\n",
    "fit_consci = kmeans.fit(consci)\n",
    "clusters = fit_consci.labels_\n",
    "consci['clusters'] = clusters"
   ]
  },
  {
   "cell_type": "code",
   "execution_count": 64,
   "id": "b848be9e",
   "metadata": {},
   "outputs": [
    {
     "data": {
      "text/html": [
       "<div>\n",
       "<style scoped>\n",
       "    .dataframe tbody tr th:only-of-type {\n",
       "        vertical-align: middle;\n",
       "    }\n",
       "\n",
       "    .dataframe tbody tr th {\n",
       "        vertical-align: top;\n",
       "    }\n",
       "\n",
       "    .dataframe thead th {\n",
       "        text-align: right;\n",
       "    }\n",
       "</style>\n",
       "<table border=\"1\" class=\"dataframe\">\n",
       "  <thead>\n",
       "    <tr style=\"text-align: right;\">\n",
       "      <th></th>\n",
       "      <th>CSN1</th>\n",
       "      <th>CSN2</th>\n",
       "      <th>CSN3</th>\n",
       "      <th>CSN4</th>\n",
       "      <th>CSN5</th>\n",
       "      <th>CSN6</th>\n",
       "      <th>CSN7</th>\n",
       "      <th>CSN8</th>\n",
       "      <th>CSN9</th>\n",
       "      <th>CSN10</th>\n",
       "    </tr>\n",
       "    <tr>\n",
       "      <th>clusters</th>\n",
       "      <th></th>\n",
       "      <th></th>\n",
       "      <th></th>\n",
       "      <th></th>\n",
       "      <th></th>\n",
       "      <th></th>\n",
       "      <th></th>\n",
       "      <th></th>\n",
       "      <th></th>\n",
       "      <th></th>\n",
       "    </tr>\n",
       "  </thead>\n",
       "  <tbody>\n",
       "    <tr>\n",
       "      <th>0</th>\n",
       "      <td>2.243818</td>\n",
       "      <td>4.131543</td>\n",
       "      <td>3.462846</td>\n",
       "      <td>3.756032</td>\n",
       "      <td>1.597294</td>\n",
       "      <td>4.214874</td>\n",
       "      <td>2.890805</td>\n",
       "      <td>3.304373</td>\n",
       "      <td>2.064584</td>\n",
       "      <td>3.030472</td>\n",
       "    </tr>\n",
       "    <tr>\n",
       "      <th>1</th>\n",
       "      <td>2.949913</td>\n",
       "      <td>2.198202</td>\n",
       "      <td>3.717850</td>\n",
       "      <td>2.336343</td>\n",
       "      <td>2.308730</td>\n",
       "      <td>2.167020</td>\n",
       "      <td>3.416769</td>\n",
       "      <td>2.580000</td>\n",
       "      <td>2.599580</td>\n",
       "      <td>3.199847</td>\n",
       "    </tr>\n",
       "    <tr>\n",
       "      <th>2</th>\n",
       "      <td>3.619650</td>\n",
       "      <td>3.771037</td>\n",
       "      <td>4.146028</td>\n",
       "      <td>2.882372</td>\n",
       "      <td>2.595813</td>\n",
       "      <td>3.553298</td>\n",
       "      <td>3.902716</td>\n",
       "      <td>2.368465</td>\n",
       "      <td>3.692164</td>\n",
       "      <td>3.865433</td>\n",
       "    </tr>\n",
       "    <tr>\n",
       "      <th>3</th>\n",
       "      <td>4.168193</td>\n",
       "      <td>1.767929</td>\n",
       "      <td>4.459229</td>\n",
       "      <td>1.663706</td>\n",
       "      <td>3.775347</td>\n",
       "      <td>1.572533</td>\n",
       "      <td>4.415998</td>\n",
       "      <td>1.761575</td>\n",
       "      <td>4.194337</td>\n",
       "      <td>4.129766</td>\n",
       "    </tr>\n",
       "  </tbody>\n",
       "</table>\n",
       "</div>"
      ],
      "text/plain": [
       "              CSN1      CSN2      CSN3      CSN4      CSN5      CSN6  \\\n",
       "clusters                                                               \n",
       "0         2.243818  4.131543  3.462846  3.756032  1.597294  4.214874   \n",
       "1         2.949913  2.198202  3.717850  2.336343  2.308730  2.167020   \n",
       "2         3.619650  3.771037  4.146028  2.882372  2.595813  3.553298   \n",
       "3         4.168193  1.767929  4.459229  1.663706  3.775347  1.572533   \n",
       "\n",
       "              CSN7      CSN8      CSN9     CSN10  \n",
       "clusters                                          \n",
       "0         2.890805  3.304373  2.064584  3.030472  \n",
       "1         3.416769  2.580000  2.599580  3.199847  \n",
       "2         3.902716  2.368465  3.692164  3.865433  \n",
       "3         4.415998  1.761575  4.194337  4.129766  "
      ]
     },
     "execution_count": 64,
     "metadata": {},
     "output_type": "execute_result"
    }
   ],
   "source": [
    "consci.groupby('clusters').mean()"
   ]
  },
  {
   "cell_type": "code",
   "execution_count": 66,
   "id": "f7db017b",
   "metadata": {},
   "outputs": [],
   "source": [
    "inertias_openness = []\n",
    "x = range(1,11)\n",
    "for i in range(1,11):\n",
    "    kmeans = KMeans(n_clusters=i)\n",
    "    kmeans.fit(openness[:5000])\n",
    "    inertias_openness.append(kmeans.inertia_)"
   ]
  },
  {
   "cell_type": "code",
   "execution_count": 67,
   "id": "6b9e3e1b",
   "metadata": {},
   "outputs": [
    {
     "data": {
      "image/png": "[encoded data removed]",
      "text/plain": [
       "<Figure size 432x288 with 1 Axes>"
      ]
     },
     "metadata": {
      "needs_background": "light"
     },
     "output_type": "display_data"
    }
   ],
   "source": [
    "plt.plot(x,inertias_openness,marker='o')\n",
    "plt.xlabel('openness clusters')\n",
    "plt.ylabel('inertias')\n",
    "plt.show()"
   ]
  },
  {
   "cell_type": "code",
   "execution_count": 67,
   "id": "95b88688",
   "metadata": {},
   "outputs": [],
   "source": [
    "#number of clusters = 5"
   ]
  },
  {
   "cell_type": "code",
   "execution_count": 69,
   "id": "aeec4b52",
   "metadata": {},
   "outputs": [],
   "source": [
    "kmeans = KMeans(n_clusters=5)\n",
    "fit_openness = kmeans.fit(openness)\n",
    "clusters = fit_openness.labels_\n",
    "openness['clusters'] = clusters"
   ]
  },
  {
   "cell_type": "code",
   "execution_count": 70,
   "id": "ddc0fb91",
   "metadata": {},
   "outputs": [
    {
     "data": {
      "text/html": [
       "<div>\n",
       "<style scoped>\n",
       "    .dataframe tbody tr th:only-of-type {\n",
       "        vertical-align: middle;\n",
       "    }\n",
       "\n",
       "    .dataframe tbody tr th {\n",
       "        vertical-align: top;\n",
       "    }\n",
       "\n",
       "    .dataframe thead th {\n",
       "        text-align: right;\n",
       "    }\n",
       "</style>\n",
       "<table border=\"1\" class=\"dataframe\">\n",
       "  <thead>\n",
       "    <tr style=\"text-align: right;\">\n",
       "      <th></th>\n",
       "      <th>OPN1</th>\n",
       "      <th>OPN2</th>\n",
       "      <th>OPN3</th>\n",
       "      <th>OPN4</th>\n",
       "      <th>OPN5</th>\n",
       "      <th>OPN6</th>\n",
       "      <th>OPN7</th>\n",
       "      <th>OPN8</th>\n",
       "      <th>OPN9</th>\n",
       "      <th>OPN10</th>\n",
       "    </tr>\n",
       "    <tr>\n",
       "      <th>clusters</th>\n",
       "      <th></th>\n",
       "      <th></th>\n",
       "      <th></th>\n",
       "      <th></th>\n",
       "      <th></th>\n",
       "      <th></th>\n",
       "      <th></th>\n",
       "      <th></th>\n",
       "      <th></th>\n",
       "      <th></th>\n",
       "    </tr>\n",
       "  </thead>\n",
       "  <tbody>\n",
       "    <tr>\n",
       "      <th>0</th>\n",
       "      <td>2.939715</td>\n",
       "      <td>1.786974</td>\n",
       "      <td>4.394949</td>\n",
       "      <td>1.607712</td>\n",
       "      <td>3.919224</td>\n",
       "      <td>1.406980</td>\n",
       "      <td>3.937918</td>\n",
       "      <td>2.130042</td>\n",
       "      <td>4.194564</td>\n",
       "      <td>4.231147</td>\n",
       "    </tr>\n",
       "    <tr>\n",
       "      <th>1</th>\n",
       "      <td>4.571460</td>\n",
       "      <td>1.318272</td>\n",
       "      <td>4.677147</td>\n",
       "      <td>1.323079</td>\n",
       "      <td>4.357854</td>\n",
       "      <td>1.232555</td>\n",
       "      <td>4.482916</td>\n",
       "      <td>4.270321</td>\n",
       "      <td>4.557263</td>\n",
       "      <td>4.637050</td>\n",
       "    </tr>\n",
       "    <tr>\n",
       "      <th>2</th>\n",
       "      <td>4.062377</td>\n",
       "      <td>1.821960</td>\n",
       "      <td>3.160186</td>\n",
       "      <td>1.920343</td>\n",
       "      <td>3.583175</td>\n",
       "      <td>2.864360</td>\n",
       "      <td>4.159910</td>\n",
       "      <td>3.674235</td>\n",
       "      <td>4.094989</td>\n",
       "      <td>3.556197</td>\n",
       "    </tr>\n",
       "    <tr>\n",
       "      <th>3</th>\n",
       "      <td>2.404638</td>\n",
       "      <td>3.032165</td>\n",
       "      <td>2.860625</td>\n",
       "      <td>2.804685</td>\n",
       "      <td>2.779963</td>\n",
       "      <td>2.888095</td>\n",
       "      <td>3.115845</td>\n",
       "      <td>1.969968</td>\n",
       "      <td>3.353849</td>\n",
       "      <td>2.721521</td>\n",
       "    </tr>\n",
       "    <tr>\n",
       "      <th>4</th>\n",
       "      <td>3.696893</td>\n",
       "      <td>3.277234</td>\n",
       "      <td>4.282011</td>\n",
       "      <td>3.144468</td>\n",
       "      <td>3.810357</td>\n",
       "      <td>1.718883</td>\n",
       "      <td>3.723068</td>\n",
       "      <td>3.224175</td>\n",
       "      <td>4.007076</td>\n",
       "      <td>4.004422</td>\n",
       "    </tr>\n",
       "  </tbody>\n",
       "</table>\n",
       "</div>"
      ],
      "text/plain": [
       "              OPN1      OPN2      OPN3      OPN4      OPN5      OPN6  \\\n",
       "clusters                                                               \n",
       "0         2.939715  1.786974  4.394949  1.607712  3.919224  1.406980   \n",
       "1         4.571460  1.318272  4.677147  1.323079  4.357854  1.232555   \n",
       "2         4.062377  1.821960  3.160186  1.920343  3.583175  2.864360   \n",
       "3         2.404638  3.032165  2.860625  2.804685  2.779963  2.888095   \n",
       "4         3.696893  3.277234  4.282011  3.144468  3.810357  1.718883   \n",
       "\n",
       "              OPN7      OPN8      OPN9     OPN10  \n",
       "clusters                                          \n",
       "0         3.937918  2.130042  4.194564  4.231147  \n",
       "1         4.482916  4.270321  4.557263  4.637050  \n",
       "2         4.159910  3.674235  4.094989  3.556197  \n",
       "3         3.115845  1.969968  3.353849  2.721521  \n",
       "4         3.723068  3.224175  4.007076  4.004422  "
      ]
     },
     "execution_count": 70,
     "metadata": {},
     "output_type": "execute_result"
    }
   ],
   "source": [
    "openness.groupby('clusters').mean()"
   ]
  },
  {
   "cell_type": "code",
   "execution_count": 72,
   "id": "a2af3131",
   "metadata": {},
   "outputs": [],
   "source": [
    "df_test = pd.read_csv('test-personality-detection.txt',sep=' ')"
   ]
  },
  {
   "cell_type": "code",
   "execution_count": null,
   "id": "137784a2",
   "metadata": {},
   "outputs": [],
   "source": []
  },
  {
   "cell_type": "code",
   "execution_count": 73,
   "id": "43b7ac37",
   "metadata": {},
   "outputs": [
    {
     "data": {
      "text/html": [
       "<div>\n",
       "<style scoped>\n",
       "    .dataframe tbody tr th:only-of-type {\n",
       "        vertical-align: middle;\n",
       "    }\n",
       "\n",
       "    .dataframe tbody tr th {\n",
       "        vertical-align: top;\n",
       "    }\n",
       "\n",
       "    .dataframe thead th {\n",
       "        text-align: right;\n",
       "    }\n",
       "</style>\n",
       "<table border=\"1\" class=\"dataframe\">\n",
       "  <thead>\n",
       "    <tr style=\"text-align: right;\">\n",
       "      <th></th>\n",
       "      <th>EXT1</th>\n",
       "      <th>EXT2</th>\n",
       "      <th>EXT3</th>\n",
       "      <th>EXT4</th>\n",
       "      <th>EXT5</th>\n",
       "      <th>EXT6</th>\n",
       "      <th>EXT7</th>\n",
       "      <th>EXT8</th>\n",
       "      <th>EXT9</th>\n",
       "      <th>EXT10</th>\n",
       "      <th>...</th>\n",
       "      <th>OPN1</th>\n",
       "      <th>OPN2</th>\n",
       "      <th>OPN3</th>\n",
       "      <th>OPN4</th>\n",
       "      <th>OPN5</th>\n",
       "      <th>OPN6</th>\n",
       "      <th>OPN7</th>\n",
       "      <th>OPN8</th>\n",
       "      <th>OPN9</th>\n",
       "      <th>OPN10</th>\n",
       "    </tr>\n",
       "  </thead>\n",
       "  <tbody>\n",
       "    <tr>\n",
       "      <th>0</th>\n",
       "      <td>2</td>\n",
       "      <td>4</td>\n",
       "      <td>3</td>\n",
       "      <td>4</td>\n",
       "      <td>4</td>\n",
       "      <td>3</td>\n",
       "      <td>2</td>\n",
       "      <td>3</td>\n",
       "      <td>4</td>\n",
       "      <td>5</td>\n",
       "      <td>...</td>\n",
       "      <td>4</td>\n",
       "      <td>4</td>\n",
       "      <td>3</td>\n",
       "      <td>3</td>\n",
       "      <td>4</td>\n",
       "      <td>2</td>\n",
       "      <td>2</td>\n",
       "      <td>3</td>\n",
       "      <td>5</td>\n",
       "      <td>3</td>\n",
       "    </tr>\n",
       "  </tbody>\n",
       "</table>\n",
       "<p>1 rows × 50 columns</p>\n",
       "</div>"
      ],
      "text/plain": [
       "   EXT1  EXT2  EXT3  EXT4  EXT5  EXT6  EXT7  EXT8  EXT9  EXT10  ...  OPN1  \\\n",
       "0     2     4     3     4     4     3     2     3     4      5  ...     4   \n",
       "\n",
       "   OPN2  OPN3  OPN4  OPN5  OPN6  OPN7  OPN8  OPN9  OPN10  \n",
       "0     4     3     3     4     2     2     3     5      3  \n",
       "\n",
       "[1 rows x 50 columns]"
      ]
     },
     "execution_count": 73,
     "metadata": {},
     "output_type": "execute_result"
    }
   ],
   "source": [
    "df_test"
   ]
  },
  {
   "cell_type": "code",
   "execution_count": 74,
   "id": "39ac5167",
   "metadata": {},
   "outputs": [
    {
     "name": "stdout",
     "output_type": "stream",
     "text": [
      "cluster: [1]\n"
     ]
    }
   ],
   "source": [
    "personality = fit.predict(df_test)\n",
    "print('cluster:',personality)"
   ]
  },
  {
   "cell_type": "code",
   "execution_count": 75,
   "id": "15eb8525",
   "metadata": {},
   "outputs": [
    {
     "data": {
      "text/html": [
       "<div>\n",
       "<style scoped>\n",
       "    .dataframe tbody tr th:only-of-type {\n",
       "        vertical-align: middle;\n",
       "    }\n",
       "\n",
       "    .dataframe tbody tr th {\n",
       "        vertical-align: top;\n",
       "    }\n",
       "\n",
       "    .dataframe thead th {\n",
       "        text-align: right;\n",
       "    }\n",
       "</style>\n",
       "<table border=\"1\" class=\"dataframe\">\n",
       "  <thead>\n",
       "    <tr style=\"text-align: right;\">\n",
       "      <th></th>\n",
       "      <th>extrov</th>\n",
       "      <th>neuro</th>\n",
       "      <th>agree</th>\n",
       "      <th>consci</th>\n",
       "      <th>openness</th>\n",
       "    </tr>\n",
       "  </thead>\n",
       "  <tbody>\n",
       "    <tr>\n",
       "      <th>0</th>\n",
       "      <td>3.4</td>\n",
       "      <td>3.3</td>\n",
       "      <td>2.7</td>\n",
       "      <td>3.0</td>\n",
       "      <td>3.3</td>\n",
       "    </tr>\n",
       "  </tbody>\n",
       "</table>\n",
       "</div>"
      ],
      "text/plain": [
       "   extrov  neuro  agree  consci  openness\n",
       "0     3.4    3.3    2.7     3.0       3.3"
      ]
     },
     "execution_count": 75,
     "metadata": {},
     "output_type": "execute_result"
    }
   ],
   "source": [
    "data = pd.DataFrame()\n",
    "data['extrov'] = df_test.iloc[:,0:10].sum(axis=1)/10\n",
    "data['neuro'] = df_test.iloc[:,10:20].sum(axis=1)/10\n",
    "data['agree'] = df_test.iloc[:,20:30].sum(axis=1)/10\n",
    "data['consci'] = df_test.iloc[:,30:40].sum(axis=1)/10\n",
    "data['openness'] = df_test.iloc[:,40:50].sum(axis=1)/10\n",
    "data"
   ]
  },
  {
   "cell_type": "code",
   "execution_count": 76,
   "id": "1d6b7160",
   "metadata": {},
   "outputs": [
    {
     "data": {
      "text/plain": [
       "(0.0, 4.0)"
      ]
     },
     "execution_count": 76,
     "metadata": {},
     "output_type": "execute_result"
    },
    {
     "data": {
      "image/png": "[encoded data removed]",
      "text/plain": [
       "<Figure size 432x288 with 1 Axes>"
      ]
     },
     "metadata": {
      "needs_background": "light"
     },
     "output_type": "display_data"
    }
   ],
   "source": [
    "plt.bar(data.columns,data.iloc[0,:])\n",
    "plt.ylim(0,4)"
   ]
  },
  {
   "cell_type": "code",
   "execution_count": 77,
   "id": "d518a26b",
   "metadata": {},
   "outputs": [],
   "source": [
    "extrov_test = df_test.iloc[:,0:10]\n",
    "neuro_test = df_test.iloc[:,10:20]\n",
    "agree_test = df_test.iloc[:,20:30]\n",
    "consci_test = df_test.iloc[:,30:40]\n",
    "openness_test = df_test.iloc[:,40:50]"
   ]
  },
  {
   "cell_type": "code",
   "execution_count": 78,
   "id": "cbbe682c",
   "metadata": {},
   "outputs": [
    {
     "name": "stdout",
     "output_type": "stream",
     "text": [
      "extrov cluster [0]\n"
     ]
    }
   ],
   "source": [
    "extrov = fit_extrov.predict(extrov_test)\n",
    "print('extrov cluster',extrov)"
   ]
  },
  {
   "cell_type": "code",
   "execution_count": 79,
   "id": "3bafebe2",
   "metadata": {},
   "outputs": [
    {
     "name": "stdout",
     "output_type": "stream",
     "text": [
      "   EXT1  EXT2  EXT3  EXT4  EXT5  EXT6  EXT7  EXT8  EXT9  EXT10\n",
      "0     2     4     3     4     4     3     2     3     4      5\n"
     ]
    }
   ],
   "source": [
    "print(extrov_test)"
   ]
  },
  {
   "cell_type": "code",
   "execution_count": 80,
   "id": "9110b9ef",
   "metadata": {},
   "outputs": [
    {
     "name": "stdout",
     "output_type": "stream",
     "text": [
      "   EST1  EST2  EST3  EST4  EST5  EST6  EST7  EST8  EST9  EST10\n",
      "0     4     3     3     3     2     2     5     5     3      3\n"
     ]
    }
   ],
   "source": [
    "print(neuro_test)"
   ]
  },
  {
   "cell_type": "raw",
   "id": "3c75a3d4",
   "metadata": {},
   "source": []
  },
  {
   "cell_type": "code",
   "execution_count": 83,
   "id": "99cb5d27",
   "metadata": {},
   "outputs": [
    {
     "name": "stdout",
     "output_type": "stream",
     "text": [
      "neuro cluster: [0]\n"
     ]
    }
   ],
   "source": [
    "neuro = fit_neuro.predict(neuro_test)\n",
    "print('neuro cluster:',neuro)"
   ]
  },
  {
   "cell_type": "code",
   "execution_count": 82,
   "id": "216cc21c",
   "metadata": {},
   "outputs": [
    {
     "name": "stdout",
     "output_type": "stream",
     "text": [
      "   AGR1  AGR2  AGR3  AGR4  AGR5  AGR6  AGR7  AGR8  AGR9  AGR10\n",
      "0     2     3     1     5     2     4     2     2     3      3\n"
     ]
    }
   ],
   "source": [
    "print(agree_test)"
   ]
  },
  {
   "cell_type": "code",
   "execution_count": 85,
   "id": "e8b13922",
   "metadata": {},
   "outputs": [
    {
     "name": "stdout",
     "output_type": "stream",
     "text": [
      "agree cluster: [4]\n"
     ]
    }
   ],
   "source": [
    "agree = fit_agree.predict(agree_test)\n",
    "print('agree cluster:',agree)"
   ]
  },
  {
   "cell_type": "code",
   "execution_count": 86,
   "id": "ebc8e489",
   "metadata": {},
   "outputs": [
    {
     "name": "stdout",
     "output_type": "stream",
     "text": [
      "   CSN1  CSN2  CSN3  CSN4  CSN5  CSN6  CSN7  CSN8  CSN9  CSN10\n",
      "0     2     3     3     4     2     4     4     3     3      2\n"
     ]
    }
   ],
   "source": [
    "print(consci_test)"
   ]
  },
  {
   "cell_type": "code",
   "execution_count": 87,
   "id": "f4337c70",
   "metadata": {},
   "outputs": [
    {
     "name": "stdout",
     "output_type": "stream",
     "text": [
      "consci cluster: [0]\n"
     ]
    }
   ],
   "source": [
    "consci = fit_consci.predict(consci_test)\n",
    "print('consci cluster:',consci)"
   ]
  },
  {
   "cell_type": "code",
   "execution_count": 88,
   "id": "8ef4749e",
   "metadata": {},
   "outputs": [
    {
     "name": "stdout",
     "output_type": "stream",
     "text": [
      "   OPN1  OPN2  OPN3  OPN4  OPN5  OPN6  OPN7  OPN8  OPN9  OPN10\n",
      "0     4     4     3     3     4     2     2     3     5      3\n"
     ]
    }
   ],
   "source": [
    "print(openness_test)"
   ]
  },
  {
   "cell_type": "code",
   "execution_count": 89,
   "id": "5b07131c",
   "metadata": {},
   "outputs": [
    {
     "name": "stdout",
     "output_type": "stream",
     "text": [
      "openness cluster: [4]\n"
     ]
    }
   ],
   "source": [
    "openness = fit_openness.predict(openness_test)\n",
    "print('openness cluster:',openness)"
   ]
  },
  {
   "cell_type": "code",
   "execution_count": 90,
   "id": "d0979074",
   "metadata": {},
   "outputs": [
    {
     "name": "stdout",
     "output_type": "stream",
     "text": [
      "score for extroversion personality: 3.396419675261679\n"
     ]
    }
   ],
   "source": [
    "#alternate method to assign a rating to a response for each pesonality\n",
    "#rating for extroversion personality\n",
    "sum = 0\n",
    "num = 0\n",
    "for i in range(1,11):\n",
    "    num += df_test['EXT'+str(i)][0]*df1['EXT'+str(i)].var()\n",
    "    sum += df1['EXT'+str(i)].var()\n",
    "print('score for extroversion personality:',num/sum)\n"
   ]
  },
  {
   "cell_type": "code",
   "execution_count": 91,
   "id": "27ea5417",
   "metadata": {},
   "outputs": [
    {
     "name": "stdout",
     "output_type": "stream",
     "text": [
      "score for neuroticism personality: 3.3253450245345886\n"
     ]
    }
   ],
   "source": [
    "sum = 0\n",
    "num = 0\n",
    "for i in range(1,11):\n",
    "    num += df_test['EST'+str(i)][0]*df1['EST'+str(i)].var()\n",
    "    sum += df1['EST'+str(i)].var()\n",
    "print('score for neuroticism personality:',num/sum)"
   ]
  },
  {
   "cell_type": "code",
   "execution_count": 92,
   "id": "434128b1",
   "metadata": {},
   "outputs": [
    {
     "name": "stdout",
     "output_type": "stream",
     "text": [
      "score for agreeable personality: 2.6499775420628615\n"
     ]
    }
   ],
   "source": [
    "sum = 0\n",
    "num = 0\n",
    "for i in range(1,11):\n",
    "    num += df_test['AGR'+str(i)][0]*df1['AGR'+str(i)].var()\n",
    "    sum += df1['AGR'+str(i)].var()\n",
    "print('score for agreeable personality:',num/sum)"
   ]
  },
  {
   "cell_type": "code",
   "execution_count": 93,
   "id": "5bec5e3e",
   "metadata": {},
   "outputs": [
    {
     "name": "stdout",
     "output_type": "stream",
     "text": [
      "score for conscientious personality: 3.048702612976345\n"
     ]
    }
   ],
   "source": [
    "sum = 0\n",
    "num = 0\n",
    "for i in range(1,11):\n",
    "    num += df_test['CSN'+str(i)][0]*df1['CSN'+str(i)].var()\n",
    "    sum += df1['CSN'+str(i)].var()\n",
    "print('score for conscientious personality:',num/sum)"
   ]
  },
  {
   "cell_type": "code",
   "execution_count": 94,
   "id": "222c32c4",
   "metadata": {},
   "outputs": [
    {
     "name": "stdout",
     "output_type": "stream",
     "text": [
      "score for open personality: 3.2930905823037078\n"
     ]
    }
   ],
   "source": [
    "sum = 0\n",
    "num = 0\n",
    "for i in range(1,11):\n",
    "    num += df_test['OPN'+str(i)][0]*df1['OPN'+str(i)].var()\n",
    "    sum += df1['OPN'+str(i)].var()\n",
    "print('score for open personality:',num/sum)"
   ]
  },
  {
   "cell_type": "code",
   "execution_count": 95,
   "id": "c2cc99d4",
   "metadata": {},
   "outputs": [],
   "source": [
    "#we weigh the responses to questions with their variances\n",
    "#assumption: more variance means question represents personality better\n",
    "#we find that result is not much different if we simply take the mean of responses without weights\n",
    "#may vary more in case of other data"
   ]
  },
  {
   "cell_type": "code",
   "execution_count": null,
   "id": "34bfc22d",
   "metadata": {},
   "outputs": [],
   "source": []
  }
 ],
 "metadata": {
  "kernelspec": {
   "display_name": "Python 3 (ipykernel)",
   "language": "python",
   "name": "python3"
  },
  "language_info": {
   "codemirror_mode": {
    "name": "ipython",
    "version": 3
   },
   "file_extension": ".py",
   "mimetype": "text/x-python",
   "name": "python",
   "nbconvert_exporter": "python",
   "pygments_lexer": "ipython3",
   "version": "3.9.7"
  }
 },
 "nbformat": 4,
 "nbformat_minor": 5
}
